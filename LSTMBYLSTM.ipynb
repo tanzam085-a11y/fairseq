{
  "nbformat": 4,
  "nbformat_minor": 0,
  "metadata": {
    "colab": {
      "provenance": [],
      "mount_file_id": "1M3HfQjb2w8bCZ3CDU1EwxuxGv4qh1Tii",
      "authorship_tag": "ABX9TyPJDj46mLupDK2y3daod26w",
      "include_colab_link": true
    },
    "kernelspec": {
      "name": "python3",
      "display_name": "Python 3"
    },
    "language_info": {
      "name": "python"
    }
  },
  "cells": [
    {
      "cell_type": "markdown",
      "metadata": {
        "id": "view-in-github",
        "colab_type": "text"
      },
      "source": [
        "<a href=\"https://colab.research.google.com/github/tanzam085-a11y/fairseq/blob/main/LSTMBYLSTM.ipynb\" target=\"_parent\"><img src=\"https://colab.research.google.com/assets/colab-badge.svg\" alt=\"Open In Colab\"/></a>"
      ]
    },
    {
      "cell_type": "code",
      "execution_count": null,
      "metadata": {
        "id": "tlrMwobNdmsK"
      },
      "outputs": [],
      "source": []
    },
    {
      "cell_type": "markdown",
      "metadata": {
        "id": "aba13af0"
      },
      "source": [
        "# Task\n",
        "Generate Python code to upload, unzip, and display data from the file \"/content/drive/MyDrive/socialmeiadatasetNLP.zip\", then prepare the data for an LSTM model, build and train the model, and evaluate it using the F1 score."
      ]
    },
    {
      "cell_type": "markdown",
      "metadata": {
        "id": "b0019ab6"
      },
      "source": [
        "## Upload data\n",
        "\n",
        "### Subtask:\n",
        "Upload the data from the specified path.\n"
      ]
    },
    {
      "cell_type": "markdown",
      "metadata": {
        "id": "6b84cff6"
      },
      "source": [
        "**Reasoning**:\n",
        "Define the path to the zipped dataset as instructed.\n",
        "\n"
      ]
    },
    {
      "cell_type": "code",
      "metadata": {
        "id": "45c48bab"
      },
      "source": [
        "dataset_path = '/content/drive/MyDrive/socialmeiadatasetNLP.zip'"
      ],
      "execution_count": 2,
      "outputs": []
    },
    {
      "cell_type": "markdown",
      "metadata": {
        "id": "39216132"
      },
      "source": [
        "## Prepare data for LSTM\n",
        "\n",
        "### Subtask:\n",
        "Prepare the data for the LSTM model by performing necessary preprocessing steps."
      ]
    },
    {
      "cell_type": "code",
      "metadata": {
        "colab": {
          "base_uri": "https://localhost:8080/"
        },
        "id": "1a261dee",
        "outputId": "23d8113d-056b-4133-9ff1-6447840ad50a"
      },
      "source": [
        "import tensorflow as tf\n",
        "from tensorflow.keras.preprocessing.text import Tokenizer\n",
        "from tensorflow.keras.preprocessing.sequence import pad_sequences\n",
        "from sklearn.model_selection import train_test_split\n",
        "from sklearn.preprocessing import LabelEncoder\n",
        "\n",
        "# Text preprocessing\n",
        "df['Text'] = df['Text'].str.lower().str.replace(r'[^a-zA-Z0-9\\s]', '', regex=True).str.strip()\n",
        "\n",
        "# Tokenization\n",
        "tokenizer = Tokenizer(num_words=5000, oov_token=\"<OOV>\")\n",
        "tokenizer.fit_on_texts(df['Text'])\n",
        "sequences = tokenizer.texts_to_sequences(df['Text'])\n",
        "\n",
        "# Padding\n",
        "max_length = 100\n",
        "padded_sequences = pad_sequences(sequences, maxlen=max_length, padding='post', truncating='post')\n",
        "\n",
        "# Encode sentiment labels\n",
        "label_encoder = LabelEncoder()\n",
        "labels = label_encoder.fit_transform(df['Sentiment'])\n",
        "\n",
        "# Split data into training and testing sets\n",
        "X_train, X_test, y_train, y_test = train_test_split(padded_sequences, labels, test_size=0.2, random_state=42)\n",
        "\n",
        "print(\"Data preparation complete.\")\n",
        "print(\"Shape of X_train:\", X_train.shape)\n",
        "print(\"Shape of X_test:\", X_test.shape)\n",
        "print(\"Shape of y_train:\", y_train.shape)\n",
        "print(\"Shape of y_test:\", y_test.shape)"
      ],
      "execution_count": 5,
      "outputs": [
        {
          "output_type": "stream",
          "name": "stdout",
          "text": [
            "Data preparation complete.\n",
            "Shape of X_train: (585, 100)\n",
            "Shape of X_test: (147, 100)\n",
            "Shape of y_train: (585,)\n",
            "Shape of y_test: (147,)\n"
          ]
        }
      ]
    },
    {
      "cell_type": "code",
      "metadata": {
        "colab": {
          "base_uri": "https://localhost:8080/",
          "height": 311
        },
        "id": "6ca2bc18",
        "outputId": "c86b9aa3-a3f3-47d0-a83b-5bf2e17666c6"
      },
      "source": [
        "import zipfile\n",
        "import os\n",
        "import pandas as pd\n",
        "\n",
        "# Unzip the dataset\n",
        "unzip_path = '/content/'\n",
        "with zipfile.ZipFile(dataset_path, 'r') as zip_ref:\n",
        "    zip_ref.extractall(unzip_path)\n",
        "\n",
        "# Find the unzipped file (assuming it's a CSV)\n",
        "unzipped_files = os.listdir(unzip_path)\n",
        "csv_file = [f for f in unzipped_files if f.endswith('.csv')][0]\n",
        "csv_path = os.path.join(unzip_path, csv_file)\n",
        "\n",
        "# Load the data into a pandas DataFrame\n",
        "df = pd.read_csv(csv_path)\n",
        "\n",
        "# Display the first few rows of the DataFrame\n",
        "display(df.head())"
      ],
      "execution_count": 3,
      "outputs": [
        {
          "output_type": "display_data",
          "data": {
            "text/plain": [
              "   Unnamed: 0.1  Unnamed: 0  \\\n",
              "0             0           0   \n",
              "1             1           1   \n",
              "2             2           2   \n",
              "3             3           3   \n",
              "4             4           4   \n",
              "\n",
              "                                                Text    Sentiment  \\\n",
              "0   Enjoying a beautiful day at the park!        ...   Positive     \n",
              "1   Traffic was terrible this morning.           ...   Negative     \n",
              "2   Just finished an amazing workout! 💪          ...   Positive     \n",
              "3   Excited about the upcoming weekend getaway!  ...   Positive     \n",
              "4   Trying out a new recipe for dinner tonight.  ...   Neutral      \n",
              "\n",
              "             Timestamp            User     Platform  \\\n",
              "0  2023-01-15 12:30:00   User123          Twitter     \n",
              "1  2023-01-15 08:45:00   CommuterX        Twitter     \n",
              "2  2023-01-15 15:45:00   FitnessFan      Instagram    \n",
              "3  2023-01-15 18:20:00   AdventureX       Facebook    \n",
              "4  2023-01-15 19:55:00   ChefCook        Instagram    \n",
              "\n",
              "                                     Hashtags  Retweets  Likes       Country  \\\n",
              "0   #Nature #Park                                  15.0   30.0     USA         \n",
              "1   #Traffic #Morning                               5.0   10.0     Canada      \n",
              "2   #Fitness #Workout                              20.0   40.0   USA           \n",
              "3   #Travel #Adventure                              8.0   15.0     UK          \n",
              "4   #Cooking #Food                                 12.0   25.0    Australia    \n",
              "\n",
              "   Year  Month  Day  Hour  \n",
              "0  2023      1   15    12  \n",
              "1  2023      1   15     8  \n",
              "2  2023      1   15    15  \n",
              "3  2023      1   15    18  \n",
              "4  2023      1   15    19  "
            ],
            "text/html": [
              "\n",
              "  <div id=\"df-c96b3298-afa4-4642-9309-85b630dd3f97\" class=\"colab-df-container\">\n",
              "    <div>\n",
              "<style scoped>\n",
              "    .dataframe tbody tr th:only-of-type {\n",
              "        vertical-align: middle;\n",
              "    }\n",
              "\n",
              "    .dataframe tbody tr th {\n",
              "        vertical-align: top;\n",
              "    }\n",
              "\n",
              "    .dataframe thead th {\n",
              "        text-align: right;\n",
              "    }\n",
              "</style>\n",
              "<table border=\"1\" class=\"dataframe\">\n",
              "  <thead>\n",
              "    <tr style=\"text-align: right;\">\n",
              "      <th></th>\n",
              "      <th>Unnamed: 0.1</th>\n",
              "      <th>Unnamed: 0</th>\n",
              "      <th>Text</th>\n",
              "      <th>Sentiment</th>\n",
              "      <th>Timestamp</th>\n",
              "      <th>User</th>\n",
              "      <th>Platform</th>\n",
              "      <th>Hashtags</th>\n",
              "      <th>Retweets</th>\n",
              "      <th>Likes</th>\n",
              "      <th>Country</th>\n",
              "      <th>Year</th>\n",
              "      <th>Month</th>\n",
              "      <th>Day</th>\n",
              "      <th>Hour</th>\n",
              "    </tr>\n",
              "  </thead>\n",
              "  <tbody>\n",
              "    <tr>\n",
              "      <th>0</th>\n",
              "      <td>0</td>\n",
              "      <td>0</td>\n",
              "      <td>Enjoying a beautiful day at the park!        ...</td>\n",
              "      <td>Positive</td>\n",
              "      <td>2023-01-15 12:30:00</td>\n",
              "      <td>User123</td>\n",
              "      <td>Twitter</td>\n",
              "      <td>#Nature #Park</td>\n",
              "      <td>15.0</td>\n",
              "      <td>30.0</td>\n",
              "      <td>USA</td>\n",
              "      <td>2023</td>\n",
              "      <td>1</td>\n",
              "      <td>15</td>\n",
              "      <td>12</td>\n",
              "    </tr>\n",
              "    <tr>\n",
              "      <th>1</th>\n",
              "      <td>1</td>\n",
              "      <td>1</td>\n",
              "      <td>Traffic was terrible this morning.           ...</td>\n",
              "      <td>Negative</td>\n",
              "      <td>2023-01-15 08:45:00</td>\n",
              "      <td>CommuterX</td>\n",
              "      <td>Twitter</td>\n",
              "      <td>#Traffic #Morning</td>\n",
              "      <td>5.0</td>\n",
              "      <td>10.0</td>\n",
              "      <td>Canada</td>\n",
              "      <td>2023</td>\n",
              "      <td>1</td>\n",
              "      <td>15</td>\n",
              "      <td>8</td>\n",
              "    </tr>\n",
              "    <tr>\n",
              "      <th>2</th>\n",
              "      <td>2</td>\n",
              "      <td>2</td>\n",
              "      <td>Just finished an amazing workout! 💪          ...</td>\n",
              "      <td>Positive</td>\n",
              "      <td>2023-01-15 15:45:00</td>\n",
              "      <td>FitnessFan</td>\n",
              "      <td>Instagram</td>\n",
              "      <td>#Fitness #Workout</td>\n",
              "      <td>20.0</td>\n",
              "      <td>40.0</td>\n",
              "      <td>USA</td>\n",
              "      <td>2023</td>\n",
              "      <td>1</td>\n",
              "      <td>15</td>\n",
              "      <td>15</td>\n",
              "    </tr>\n",
              "    <tr>\n",
              "      <th>3</th>\n",
              "      <td>3</td>\n",
              "      <td>3</td>\n",
              "      <td>Excited about the upcoming weekend getaway!  ...</td>\n",
              "      <td>Positive</td>\n",
              "      <td>2023-01-15 18:20:00</td>\n",
              "      <td>AdventureX</td>\n",
              "      <td>Facebook</td>\n",
              "      <td>#Travel #Adventure</td>\n",
              "      <td>8.0</td>\n",
              "      <td>15.0</td>\n",
              "      <td>UK</td>\n",
              "      <td>2023</td>\n",
              "      <td>1</td>\n",
              "      <td>15</td>\n",
              "      <td>18</td>\n",
              "    </tr>\n",
              "    <tr>\n",
              "      <th>4</th>\n",
              "      <td>4</td>\n",
              "      <td>4</td>\n",
              "      <td>Trying out a new recipe for dinner tonight.  ...</td>\n",
              "      <td>Neutral</td>\n",
              "      <td>2023-01-15 19:55:00</td>\n",
              "      <td>ChefCook</td>\n",
              "      <td>Instagram</td>\n",
              "      <td>#Cooking #Food</td>\n",
              "      <td>12.0</td>\n",
              "      <td>25.0</td>\n",
              "      <td>Australia</td>\n",
              "      <td>2023</td>\n",
              "      <td>1</td>\n",
              "      <td>15</td>\n",
              "      <td>19</td>\n",
              "    </tr>\n",
              "  </tbody>\n",
              "</table>\n",
              "</div>\n",
              "    <div class=\"colab-df-buttons\">\n",
              "\n",
              "  <div class=\"colab-df-container\">\n",
              "    <button class=\"colab-df-convert\" onclick=\"convertToInteractive('df-c96b3298-afa4-4642-9309-85b630dd3f97')\"\n",
              "            title=\"Convert this dataframe to an interactive table.\"\n",
              "            style=\"display:none;\">\n",
              "\n",
              "  <svg xmlns=\"http://www.w3.org/2000/svg\" height=\"24px\" viewBox=\"0 -960 960 960\">\n",
              "    <path d=\"M120-120v-720h720v720H120Zm60-500h600v-160H180v160Zm220 220h160v-160H400v160Zm0 220h160v-160H400v160ZM180-400h160v-160H180v160Zm440 0h160v-160H620v160ZM180-180h160v-160H180v160Zm440 0h160v-160H620v160Z\"/>\n",
              "  </svg>\n",
              "    </button>\n",
              "\n",
              "  <style>\n",
              "    .colab-df-container {\n",
              "      display:flex;\n",
              "      gap: 12px;\n",
              "    }\n",
              "\n",
              "    .colab-df-convert {\n",
              "      background-color: #E8F0FE;\n",
              "      border: none;\n",
              "      border-radius: 50%;\n",
              "      cursor: pointer;\n",
              "      display: none;\n",
              "      fill: #1967D2;\n",
              "      height: 32px;\n",
              "      padding: 0 0 0 0;\n",
              "      width: 32px;\n",
              "    }\n",
              "\n",
              "    .colab-df-convert:hover {\n",
              "      background-color: #E2EBFA;\n",
              "      box-shadow: 0px 1px 2px rgba(60, 64, 67, 0.3), 0px 1px 3px 1px rgba(60, 64, 67, 0.15);\n",
              "      fill: #174EA6;\n",
              "    }\n",
              "\n",
              "    .colab-df-buttons div {\n",
              "      margin-bottom: 4px;\n",
              "    }\n",
              "\n",
              "    [theme=dark] .colab-df-convert {\n",
              "      background-color: #3B4455;\n",
              "      fill: #D2E3FC;\n",
              "    }\n",
              "\n",
              "    [theme=dark] .colab-df-convert:hover {\n",
              "      background-color: #434B5C;\n",
              "      box-shadow: 0px 1px 3px 1px rgba(0, 0, 0, 0.15);\n",
              "      filter: drop-shadow(0px 1px 2px rgba(0, 0, 0, 0.3));\n",
              "      fill: #FFFFFF;\n",
              "    }\n",
              "  </style>\n",
              "\n",
              "    <script>\n",
              "      const buttonEl =\n",
              "        document.querySelector('#df-c96b3298-afa4-4642-9309-85b630dd3f97 button.colab-df-convert');\n",
              "      buttonEl.style.display =\n",
              "        google.colab.kernel.accessAllowed ? 'block' : 'none';\n",
              "\n",
              "      async function convertToInteractive(key) {\n",
              "        const element = document.querySelector('#df-c96b3298-afa4-4642-9309-85b630dd3f97');\n",
              "        const dataTable =\n",
              "          await google.colab.kernel.invokeFunction('convertToInteractive',\n",
              "                                                    [key], {});\n",
              "        if (!dataTable) return;\n",
              "\n",
              "        const docLinkHtml = 'Like what you see? Visit the ' +\n",
              "          '<a target=\"_blank\" href=https://colab.research.google.com/notebooks/data_table.ipynb>data table notebook</a>'\n",
              "          + ' to learn more about interactive tables.';\n",
              "        element.innerHTML = '';\n",
              "        dataTable['output_type'] = 'display_data';\n",
              "        await google.colab.output.renderOutput(dataTable, element);\n",
              "        const docLink = document.createElement('div');\n",
              "        docLink.innerHTML = docLinkHtml;\n",
              "        element.appendChild(docLink);\n",
              "      }\n",
              "    </script>\n",
              "  </div>\n",
              "\n",
              "\n",
              "    <div id=\"df-144ca3b8-c6f3-4c4f-9fbc-81b59fd253a1\">\n",
              "      <button class=\"colab-df-quickchart\" onclick=\"quickchart('df-144ca3b8-c6f3-4c4f-9fbc-81b59fd253a1')\"\n",
              "                title=\"Suggest charts\"\n",
              "                style=\"display:none;\">\n",
              "\n",
              "<svg xmlns=\"http://www.w3.org/2000/svg\" height=\"24px\"viewBox=\"0 0 24 24\"\n",
              "     width=\"24px\">\n",
              "    <g>\n",
              "        <path d=\"M19 3H5c-1.1 0-2 .9-2 2v14c0 1.1.9 2 2 2h14c1.1 0 2-.9 2-2V5c0-1.1-.9-2-2-2zM9 17H7v-7h2v7zm4 0h-2V7h2v10zm4 0h-2v-4h2v4z\"/>\n",
              "    </g>\n",
              "</svg>\n",
              "      </button>\n",
              "\n",
              "<style>\n",
              "  .colab-df-quickchart {\n",
              "      --bg-color: #E8F0FE;\n",
              "      --fill-color: #1967D2;\n",
              "      --hover-bg-color: #E2EBFA;\n",
              "      --hover-fill-color: #174EA6;\n",
              "      --disabled-fill-color: #AAA;\n",
              "      --disabled-bg-color: #DDD;\n",
              "  }\n",
              "\n",
              "  [theme=dark] .colab-df-quickchart {\n",
              "      --bg-color: #3B4455;\n",
              "      --fill-color: #D2E3FC;\n",
              "      --hover-bg-color: #434B5C;\n",
              "      --hover-fill-color: #FFFFFF;\n",
              "      --disabled-bg-color: #3B4455;\n",
              "      --disabled-fill-color: #666;\n",
              "  }\n",
              "\n",
              "  .colab-df-quickchart {\n",
              "    background-color: var(--bg-color);\n",
              "    border: none;\n",
              "    border-radius: 50%;\n",
              "    cursor: pointer;\n",
              "    display: none;\n",
              "    fill: var(--fill-color);\n",
              "    height: 32px;\n",
              "    padding: 0;\n",
              "    width: 32px;\n",
              "  }\n",
              "\n",
              "  .colab-df-quickchart:hover {\n",
              "    background-color: var(--hover-bg-color);\n",
              "    box-shadow: 0 1px 2px rgba(60, 64, 67, 0.3), 0 1px 3px 1px rgba(60, 64, 67, 0.15);\n",
              "    fill: var(--button-hover-fill-color);\n",
              "  }\n",
              "\n",
              "  .colab-df-quickchart-complete:disabled,\n",
              "  .colab-df-quickchart-complete:disabled:hover {\n",
              "    background-color: var(--disabled-bg-color);\n",
              "    fill: var(--disabled-fill-color);\n",
              "    box-shadow: none;\n",
              "  }\n",
              "\n",
              "  .colab-df-spinner {\n",
              "    border: 2px solid var(--fill-color);\n",
              "    border-color: transparent;\n",
              "    border-bottom-color: var(--fill-color);\n",
              "    animation:\n",
              "      spin 1s steps(1) infinite;\n",
              "  }\n",
              "\n",
              "  @keyframes spin {\n",
              "    0% {\n",
              "      border-color: transparent;\n",
              "      border-bottom-color: var(--fill-color);\n",
              "      border-left-color: var(--fill-color);\n",
              "    }\n",
              "    20% {\n",
              "      border-color: transparent;\n",
              "      border-left-color: var(--fill-color);\n",
              "      border-top-color: var(--fill-color);\n",
              "    }\n",
              "    30% {\n",
              "      border-color: transparent;\n",
              "      border-left-color: var(--fill-color);\n",
              "      border-top-color: var(--fill-color);\n",
              "      border-right-color: var(--fill-color);\n",
              "    }\n",
              "    40% {\n",
              "      border-color: transparent;\n",
              "      border-right-color: var(--fill-color);\n",
              "      border-top-color: var(--fill-color);\n",
              "    }\n",
              "    60% {\n",
              "      border-color: transparent;\n",
              "      border-right-color: var(--fill-color);\n",
              "    }\n",
              "    80% {\n",
              "      border-color: transparent;\n",
              "      border-right-color: var(--fill-color);\n",
              "      border-bottom-color: var(--fill-color);\n",
              "    }\n",
              "    90% {\n",
              "      border-color: transparent;\n",
              "      border-bottom-color: var(--fill-color);\n",
              "    }\n",
              "  }\n",
              "</style>\n",
              "\n",
              "      <script>\n",
              "        async function quickchart(key) {\n",
              "          const quickchartButtonEl =\n",
              "            document.querySelector('#' + key + ' button');\n",
              "          quickchartButtonEl.disabled = true;  // To prevent multiple clicks.\n",
              "          quickchartButtonEl.classList.add('colab-df-spinner');\n",
              "          try {\n",
              "            const charts = await google.colab.kernel.invokeFunction(\n",
              "                'suggestCharts', [key], {});\n",
              "          } catch (error) {\n",
              "            console.error('Error during call to suggestCharts:', error);\n",
              "          }\n",
              "          quickchartButtonEl.classList.remove('colab-df-spinner');\n",
              "          quickchartButtonEl.classList.add('colab-df-quickchart-complete');\n",
              "        }\n",
              "        (() => {\n",
              "          let quickchartButtonEl =\n",
              "            document.querySelector('#df-144ca3b8-c6f3-4c4f-9fbc-81b59fd253a1 button');\n",
              "          quickchartButtonEl.style.display =\n",
              "            google.colab.kernel.accessAllowed ? 'block' : 'none';\n",
              "        })();\n",
              "      </script>\n",
              "    </div>\n",
              "\n",
              "    </div>\n",
              "  </div>\n"
            ],
            "application/vnd.google.colaboratory.intrinsic+json": {
              "type": "dataframe",
              "summary": "{\n  \"name\": \"display(df\",\n  \"rows\": 5,\n  \"fields\": [\n    {\n      \"column\": \"Unnamed: 0.1\",\n      \"properties\": {\n        \"dtype\": \"number\",\n        \"std\": 1,\n        \"min\": 0,\n        \"max\": 4,\n        \"num_unique_values\": 5,\n        \"samples\": [\n          1,\n          4,\n          2\n        ],\n        \"semantic_type\": \"\",\n        \"description\": \"\"\n      }\n    },\n    {\n      \"column\": \"Unnamed: 0\",\n      \"properties\": {\n        \"dtype\": \"number\",\n        \"std\": 1,\n        \"min\": 0,\n        \"max\": 4,\n        \"num_unique_values\": 5,\n        \"samples\": [\n          1,\n          4,\n          2\n        ],\n        \"semantic_type\": \"\",\n        \"description\": \"\"\n      }\n    },\n    {\n      \"column\": \"Text\",\n      \"properties\": {\n        \"dtype\": \"string\",\n        \"num_unique_values\": 5,\n        \"samples\": [\n          \" Traffic was terrible this morning.                 \",\n          \" Trying out a new recipe for dinner tonight.        \",\n          \" Just finished an amazing workout! \\ud83d\\udcaa               \"\n        ],\n        \"semantic_type\": \"\",\n        \"description\": \"\"\n      }\n    },\n    {\n      \"column\": \"Sentiment\",\n      \"properties\": {\n        \"dtype\": \"string\",\n        \"num_unique_values\": 3,\n        \"samples\": [\n          \" Positive  \",\n          \" Negative  \",\n          \" Neutral   \"\n        ],\n        \"semantic_type\": \"\",\n        \"description\": \"\"\n      }\n    },\n    {\n      \"column\": \"Timestamp\",\n      \"properties\": {\n        \"dtype\": \"object\",\n        \"num_unique_values\": 5,\n        \"samples\": [\n          \"2023-01-15 08:45:00\",\n          \"2023-01-15 19:55:00\",\n          \"2023-01-15 15:45:00\"\n        ],\n        \"semantic_type\": \"\",\n        \"description\": \"\"\n      }\n    },\n    {\n      \"column\": \"User\",\n      \"properties\": {\n        \"dtype\": \"string\",\n        \"num_unique_values\": 5,\n        \"samples\": [\n          \" CommuterX    \",\n          \" ChefCook     \",\n          \" FitnessFan   \"\n        ],\n        \"semantic_type\": \"\",\n        \"description\": \"\"\n      }\n    },\n    {\n      \"column\": \"Platform\",\n      \"properties\": {\n        \"dtype\": \"string\",\n        \"num_unique_values\": 3,\n        \"samples\": [\n          \" Twitter  \",\n          \" Instagram \",\n          \" Facebook \"\n        ],\n        \"semantic_type\": \"\",\n        \"description\": \"\"\n      }\n    },\n    {\n      \"column\": \"Hashtags\",\n      \"properties\": {\n        \"dtype\": \"string\",\n        \"num_unique_values\": 5,\n        \"samples\": [\n          \" #Traffic #Morning                        \",\n          \" #Cooking #Food                           \",\n          \" #Fitness #Workout                        \"\n        ],\n        \"semantic_type\": \"\",\n        \"description\": \"\"\n      }\n    },\n    {\n      \"column\": \"Retweets\",\n      \"properties\": {\n        \"dtype\": \"number\",\n        \"std\": 5.873670062235365,\n        \"min\": 5.0,\n        \"max\": 20.0,\n        \"num_unique_values\": 5,\n        \"samples\": [\n          5.0,\n          12.0,\n          20.0\n        ],\n        \"semantic_type\": \"\",\n        \"description\": \"\"\n      }\n    },\n    {\n      \"column\": \"Likes\",\n      \"properties\": {\n        \"dtype\": \"number\",\n        \"std\": 11.937336386313323,\n        \"min\": 10.0,\n        \"max\": 40.0,\n        \"num_unique_values\": 5,\n        \"samples\": [\n          10.0,\n          25.0,\n          40.0\n        ],\n        \"semantic_type\": \"\",\n        \"description\": \"\"\n      }\n    },\n    {\n      \"column\": \"Country\",\n      \"properties\": {\n        \"dtype\": \"string\",\n        \"num_unique_values\": 5,\n        \"samples\": [\n          \" Canada   \",\n          \" Australia \",\n          \" USA        \"\n        ],\n        \"semantic_type\": \"\",\n        \"description\": \"\"\n      }\n    },\n    {\n      \"column\": \"Year\",\n      \"properties\": {\n        \"dtype\": \"number\",\n        \"std\": 0,\n        \"min\": 2023,\n        \"max\": 2023,\n        \"num_unique_values\": 1,\n        \"samples\": [\n          2023\n        ],\n        \"semantic_type\": \"\",\n        \"description\": \"\"\n      }\n    },\n    {\n      \"column\": \"Month\",\n      \"properties\": {\n        \"dtype\": \"number\",\n        \"std\": 0,\n        \"min\": 1,\n        \"max\": 1,\n        \"num_unique_values\": 1,\n        \"samples\": [\n          1\n        ],\n        \"semantic_type\": \"\",\n        \"description\": \"\"\n      }\n    },\n    {\n      \"column\": \"Day\",\n      \"properties\": {\n        \"dtype\": \"number\",\n        \"std\": 0,\n        \"min\": 15,\n        \"max\": 15,\n        \"num_unique_values\": 1,\n        \"samples\": [\n          15\n        ],\n        \"semantic_type\": \"\",\n        \"description\": \"\"\n      }\n    },\n    {\n      \"column\": \"Hour\",\n      \"properties\": {\n        \"dtype\": \"number\",\n        \"std\": 4,\n        \"min\": 8,\n        \"max\": 19,\n        \"num_unique_values\": 5,\n        \"samples\": [\n          8\n        ],\n        \"semantic_type\": \"\",\n        \"description\": \"\"\n      }\n    }\n  ]\n}"
            }
          },
          "metadata": {}
        }
      ]
    },
    {
      "cell_type": "code",
      "source": [
        "from tensorflow.keras.models import Sequential\n",
        "from tensorflow.keras.layers import Embedding, LSTM, Dense, Dropout\n",
        "from tensorflow.keras.callbacks import EarlyStopping\n",
        "\n",
        "# Build the LSTM model\n",
        "embedding_dim = 16\n",
        "model = Sequential([\n",
        "    Embedding(input_dim=5000, output_dim=embedding_dim, input_length=max_length),\n",
        "    LSTM(64),\n",
        "    Dense(24, activation='relu'),\n",
        "    Dropout(0.5),\n",
        "    Dense(len(label_encoder.classes_), activation='softmax') # Use the number of unique sentiment labels\n",
        "])\n",
        "\n",
        "model.compile(loss='sparse_categorical_crossentropy', optimizer='adam', metrics=['accuracy'])\n",
        "\n",
        "model.summary()\n",
        "\n",
        "# Train the model\n",
        "num_epochs = 10\n",
        "history = model.fit(X_train, y_train, epochs=num_epochs, validation_data=(X_test, y_test), verbose=2)\n",
        "\n",
        "# Display training history metrics (loss and accuracy)\n",
        "print(\"\\nTraining History:\")\n",
        "print(\"Loss (High, Low):\", max(history.history['loss']), min(history.history['loss']))\n",
        "print(\"Accuracy (High, Low):\", max(history.history['accuracy']), min(history.history['accuracy']))\n",
        "print(\"Validation Loss (High, Low):\", max(history.history['val_loss']), min(history.history['val_loss']))\n",
        "print(\"Validation Accuracy (High, Low):\", max(history.history['val_accuracy']), min(history.history['val_accuracy']))"
      ],
      "metadata": {
        "colab": {
          "base_uri": "https://localhost:8080/",
          "height": 798
        },
        "id": "r7s2ExKXhXt8",
        "outputId": "29bbab09-ebd5-4a21-cc07-52e5986bab0c"
      },
      "execution_count": 6,
      "outputs": [
        {
          "output_type": "stream",
          "name": "stderr",
          "text": [
            "/usr/local/lib/python3.12/dist-packages/keras/src/layers/core/embedding.py:97: UserWarning: Argument `input_length` is deprecated. Just remove it.\n",
            "  warnings.warn(\n"
          ]
        },
        {
          "output_type": "display_data",
          "data": {
            "text/plain": [
              "\u001b[1mModel: \"sequential\"\u001b[0m\n"
            ],
            "text/html": [
              "<pre style=\"white-space:pre;overflow-x:auto;line-height:normal;font-family:Menlo,'DejaVu Sans Mono',consolas,'Courier New',monospace\"><span style=\"font-weight: bold\">Model: \"sequential\"</span>\n",
              "</pre>\n"
            ]
          },
          "metadata": {}
        },
        {
          "output_type": "display_data",
          "data": {
            "text/plain": [
              "┏━━━━━━━━━━━━━━━━━━━━━━━━━━━━━━━━━┳━━━━━━━━━━━━━━━━━━━━━━━━┳━━━━━━━━━━━━━━━┓\n",
              "┃\u001b[1m \u001b[0m\u001b[1mLayer (type)                   \u001b[0m\u001b[1m \u001b[0m┃\u001b[1m \u001b[0m\u001b[1mOutput Shape          \u001b[0m\u001b[1m \u001b[0m┃\u001b[1m \u001b[0m\u001b[1m      Param #\u001b[0m\u001b[1m \u001b[0m┃\n",
              "┡━━━━━━━━━━━━━━━━━━━━━━━━━━━━━━━━━╇━━━━━━━━━━━━━━━━━━━━━━━━╇━━━━━━━━━━━━━━━┩\n",
              "│ embedding (\u001b[38;5;33mEmbedding\u001b[0m)           │ ?                      │   \u001b[38;5;34m0\u001b[0m (unbuilt) │\n",
              "├─────────────────────────────────┼────────────────────────┼───────────────┤\n",
              "│ lstm (\u001b[38;5;33mLSTM\u001b[0m)                     │ ?                      │   \u001b[38;5;34m0\u001b[0m (unbuilt) │\n",
              "├─────────────────────────────────┼────────────────────────┼───────────────┤\n",
              "│ dense (\u001b[38;5;33mDense\u001b[0m)                   │ ?                      │   \u001b[38;5;34m0\u001b[0m (unbuilt) │\n",
              "├─────────────────────────────────┼────────────────────────┼───────────────┤\n",
              "│ dropout (\u001b[38;5;33mDropout\u001b[0m)               │ ?                      │             \u001b[38;5;34m0\u001b[0m │\n",
              "├─────────────────────────────────┼────────────────────────┼───────────────┤\n",
              "│ dense_1 (\u001b[38;5;33mDense\u001b[0m)                 │ ?                      │   \u001b[38;5;34m0\u001b[0m (unbuilt) │\n",
              "└─────────────────────────────────┴────────────────────────┴───────────────┘\n"
            ],
            "text/html": [
              "<pre style=\"white-space:pre;overflow-x:auto;line-height:normal;font-family:Menlo,'DejaVu Sans Mono',consolas,'Courier New',monospace\">┏━━━━━━━━━━━━━━━━━━━━━━━━━━━━━━━━━┳━━━━━━━━━━━━━━━━━━━━━━━━┳━━━━━━━━━━━━━━━┓\n",
              "┃<span style=\"font-weight: bold\"> Layer (type)                    </span>┃<span style=\"font-weight: bold\"> Output Shape           </span>┃<span style=\"font-weight: bold\">       Param # </span>┃\n",
              "┡━━━━━━━━━━━━━━━━━━━━━━━━━━━━━━━━━╇━━━━━━━━━━━━━━━━━━━━━━━━╇━━━━━━━━━━━━━━━┩\n",
              "│ embedding (<span style=\"color: #0087ff; text-decoration-color: #0087ff\">Embedding</span>)           │ ?                      │   <span style=\"color: #00af00; text-decoration-color: #00af00\">0</span> (unbuilt) │\n",
              "├─────────────────────────────────┼────────────────────────┼───────────────┤\n",
              "│ lstm (<span style=\"color: #0087ff; text-decoration-color: #0087ff\">LSTM</span>)                     │ ?                      │   <span style=\"color: #00af00; text-decoration-color: #00af00\">0</span> (unbuilt) │\n",
              "├─────────────────────────────────┼────────────────────────┼───────────────┤\n",
              "│ dense (<span style=\"color: #0087ff; text-decoration-color: #0087ff\">Dense</span>)                   │ ?                      │   <span style=\"color: #00af00; text-decoration-color: #00af00\">0</span> (unbuilt) │\n",
              "├─────────────────────────────────┼────────────────────────┼───────────────┤\n",
              "│ dropout (<span style=\"color: #0087ff; text-decoration-color: #0087ff\">Dropout</span>)               │ ?                      │             <span style=\"color: #00af00; text-decoration-color: #00af00\">0</span> │\n",
              "├─────────────────────────────────┼────────────────────────┼───────────────┤\n",
              "│ dense_1 (<span style=\"color: #0087ff; text-decoration-color: #0087ff\">Dense</span>)                 │ ?                      │   <span style=\"color: #00af00; text-decoration-color: #00af00\">0</span> (unbuilt) │\n",
              "└─────────────────────────────────┴────────────────────────┴───────────────┘\n",
              "</pre>\n"
            ]
          },
          "metadata": {}
        },
        {
          "output_type": "display_data",
          "data": {
            "text/plain": [
              "\u001b[1m Total params: \u001b[0m\u001b[38;5;34m0\u001b[0m (0.00 B)\n"
            ],
            "text/html": [
              "<pre style=\"white-space:pre;overflow-x:auto;line-height:normal;font-family:Menlo,'DejaVu Sans Mono',consolas,'Courier New',monospace\"><span style=\"font-weight: bold\"> Total params: </span><span style=\"color: #00af00; text-decoration-color: #00af00\">0</span> (0.00 B)\n",
              "</pre>\n"
            ]
          },
          "metadata": {}
        },
        {
          "output_type": "display_data",
          "data": {
            "text/plain": [
              "\u001b[1m Trainable params: \u001b[0m\u001b[38;5;34m0\u001b[0m (0.00 B)\n"
            ],
            "text/html": [
              "<pre style=\"white-space:pre;overflow-x:auto;line-height:normal;font-family:Menlo,'DejaVu Sans Mono',consolas,'Courier New',monospace\"><span style=\"font-weight: bold\"> Trainable params: </span><span style=\"color: #00af00; text-decoration-color: #00af00\">0</span> (0.00 B)\n",
              "</pre>\n"
            ]
          },
          "metadata": {}
        },
        {
          "output_type": "display_data",
          "data": {
            "text/plain": [
              "\u001b[1m Non-trainable params: \u001b[0m\u001b[38;5;34m0\u001b[0m (0.00 B)\n"
            ],
            "text/html": [
              "<pre style=\"white-space:pre;overflow-x:auto;line-height:normal;font-family:Menlo,'DejaVu Sans Mono',consolas,'Courier New',monospace\"><span style=\"font-weight: bold\"> Non-trainable params: </span><span style=\"color: #00af00; text-decoration-color: #00af00\">0</span> (0.00 B)\n",
              "</pre>\n"
            ]
          },
          "metadata": {}
        },
        {
          "output_type": "stream",
          "name": "stdout",
          "text": [
            "Epoch 1/10\n",
            "19/19 - 5s - 274ms/step - accuracy: 0.0137 - loss: 5.6243 - val_accuracy: 0.0612 - val_loss: 5.6122\n",
            "Epoch 2/10\n",
            "19/19 - 1s - 51ms/step - accuracy: 0.0291 - loss: 5.5339 - val_accuracy: 0.0612 - val_loss: 5.5053\n",
            "Epoch 3/10\n",
            "19/19 - 1s - 54ms/step - accuracy: 0.0496 - loss: 5.3784 - val_accuracy: 0.0612 - val_loss: 5.5435\n",
            "Epoch 4/10\n",
            "19/19 - 1s - 62ms/step - accuracy: 0.0496 - loss: 5.2896 - val_accuracy: 0.0612 - val_loss: 5.6151\n",
            "Epoch 5/10\n",
            "19/19 - 1s - 50ms/step - accuracy: 0.0547 - loss: 5.2299 - val_accuracy: 0.0612 - val_loss: 5.6617\n",
            "Epoch 6/10\n",
            "19/19 - 1s - 54ms/step - accuracy: 0.0530 - loss: 5.1844 - val_accuracy: 0.0612 - val_loss: 5.6865\n",
            "Epoch 7/10\n",
            "19/19 - 1s - 71ms/step - accuracy: 0.0496 - loss: 5.1766 - val_accuracy: 0.0544 - val_loss: 5.7320\n",
            "Epoch 8/10\n",
            "19/19 - 2s - 86ms/step - accuracy: 0.0513 - loss: 5.1979 - val_accuracy: 0.0612 - val_loss: 5.7376\n",
            "Epoch 9/10\n",
            "19/19 - 2s - 128ms/step - accuracy: 0.0513 - loss: 5.0985 - val_accuracy: 0.0612 - val_loss: 5.8200\n",
            "Epoch 10/10\n",
            "19/19 - 2s - 111ms/step - accuracy: 0.0530 - loss: 5.1014 - val_accuracy: 0.0612 - val_loss: 5.8638\n",
            "\n",
            "Training History:\n",
            "Loss (High, Low): 5.624313831329346 5.098545551300049\n",
            "Accuracy (High, Low): 0.054700855165719986 0.013675213791429996\n",
            "Validation Loss (High, Low): 5.863801956176758 5.505343914031982\n",
            "Validation Accuracy (High, Low): 0.06122449040412903 0.054421767592430115\n"
          ]
        }
      ]
    },
    {
      "cell_type": "code",
      "source": [],
      "metadata": {
        "id": "o5dHmTbKkZVA"
      },
      "execution_count": null,
      "outputs": []
    },
    {
      "cell_type": "code",
      "metadata": {
        "colab": {
          "base_uri": "https://localhost:8080/",
          "height": 407
        },
        "id": "660899fa",
        "outputId": "1207e0bc-acb5-40dd-a35f-27150a97d389"
      },
      "source": [
        "import matplotlib.pyplot as plt\n",
        "\n",
        "# Plot training and validation accuracy\n",
        "plt.figure(figsize=(12, 4))\n",
        "plt.subplot(1, 2, 1)\n",
        "plt.plot(history.history['accuracy'], label='Training Accuracy')\n",
        "plt.plot(history.history['val_accuracy'], label='Validation Accuracy')\n",
        "plt.title('Training and Validation Accuracy')\n",
        "plt.xlabel('Epoch')\n",
        "plt.ylabel('Accuracy')\n",
        "plt.legend()\n",
        "\n",
        "# Plot training and validation loss\n",
        "plt.subplot(1, 2, 2)\n",
        "plt.plot(history.history['loss'], label='Training Loss')\n",
        "plt.plot(history.history['val_loss'], label='Validation Loss')\n",
        "plt.title('Training and Validation Loss')\n",
        "plt.xlabel('Epoch')\n",
        "plt.ylabel('Loss')\n",
        "plt.legend()\n",
        "\n",
        "plt.tight_layout()\n",
        "plt.show()"
      ],
      "execution_count": 7,
      "outputs": [
        {
          "output_type": "display_data",
          "data": {
            "text/plain": [
              "<Figure size 1200x400 with 2 Axes>"
            ],
            "image/png": "[encoded data removed]"
          },
          "metadata": {}
        }
      ]
    },
    {
      "cell_type": "code",
      "source": [
        "from sklearn.metrics import f1_score\n",
        "import numpy as np\n",
        "\n",
        "# Predict probabilities for the test set\n",
        "y_pred_probs = model.predict(X_test)\n",
        "\n",
        "# Get the predicted labels by finding the class with the highest probability\n",
        "y_pred = np.argmax(y_pred_probs, axis=1)\n",
        "\n",
        "# Calculate the F1 score\n",
        "# Use 'weighted' average because the classes might be imbalanced\n",
        "f1 = f1_score(y_test, y_pred, average='weighted')\n",
        "\n",
        "print(f\"\\nF1 Score (Weighted): {f1:.4f}\")"
      ],
      "metadata": {
        "colab": {
          "base_uri": "https://localhost:8080/"
        },
        "id": "_GGFHb92lFvG",
        "outputId": "f6c82287-284f-42b9-fba6-c21a7e39daa3"
      },
      "execution_count": 8,
      "outputs": [
        {
          "output_type": "stream",
          "name": "stdout",
          "text": [
            "\u001b[1m5/5\u001b[0m \u001b[32m━━━━━━━━━━━━━━━━━━━━\u001b[0m\u001b[37m\u001b[0m \u001b[1m1s\u001b[0m 85ms/step\n",
            "\n",
            "F1 Score (Weighted): 0.0071\n"
          ]
        }
      ]
    },
    {
      "cell_type": "code",
      "source": [],
      "metadata": {
        "id": "1qh4mo4VlM3i"
      },
      "execution_count": null,
      "outputs": []
    },
    {
      "cell_type": "markdown",
      "metadata": {
        "id": "d8ce60f6"
      },
      "source": [
        "# Task\n",
        "Fine-tune the LSTM model for binary sentiment classification using the dataset \"/content/drive/MyDrive/socialmeiadatasetNLP.zip\", evaluate the model using F1 score, and explain how to fine-tune the model for binary classification."
      ]
    },
    {
      "cell_type": "markdown",
      "metadata": {
        "id": "82734bee"
      },
      "source": [
        "## Filter data\n",
        "\n",
        "### Subtask:\n",
        "Filter the dataset to include only the two classes you want to use for binary classification.\n"
      ]
    },
    {
      "cell_type": "markdown",
      "metadata": {
        "id": "8544cfcd"
      },
      "source": [
        "**Reasoning**:\n",
        "Identify the unique sentiment classes and filter the DataFrame to include only two classes for binary classification.\n",
        "\n"
      ]
    },
    {
      "cell_type": "code",
      "metadata": {
        "colab": {
          "base_uri": "https://localhost:8080/",
          "height": 1000
        },
        "id": "2bd10098",
        "outputId": "015cb445-cfac-4814-ccd4-7aad1e5717f7"
      },
      "source": [
        "# Identify unique sentiment classes\n",
        "unique_sentiments = df['Sentiment'].unique()\n",
        "print(\"Unique sentiment classes:\", unique_sentiments)\n",
        "\n",
        "# Choose two classes for binary classification (e.g., 'Positive' and 'Negative')\n",
        "chosen_classes = ['Positive', 'Negative']\n",
        "\n",
        "# Filter the DataFrame to include only the chosen classes\n",
        "df_binary = df[df['Sentiment'].isin(chosen_classes)].copy()\n",
        "\n",
        "# Display the first few rows of the filtered DataFrame\n",
        "display(df_binary.head())"
      ],
      "execution_count": 9,
      "outputs": [
        {
          "output_type": "stream",
          "name": "stdout",
          "text": [
            "Unique sentiment classes: [' Positive  ' ' Negative  ' ' Neutral   ' ' Anger        '\n",
            " ' Fear         ' ' Sadness      ' ' Disgust      ' ' Happiness    '\n",
            " ' Joy          ' ' Love         ' ' Amusement    ' ' Enjoyment    '\n",
            " ' Admiration   ' ' Affection    ' ' Awe          ' ' Disappointed '\n",
            " ' Surprise     ' ' Acceptance   ' ' Adoration    ' ' Anticipation '\n",
            " ' Bitter       ' ' Calmness     ' ' Confusion    ' ' Excitement   '\n",
            " ' Kind         ' ' Pride        ' ' Shame        ' ' Confusion '\n",
            " ' Excitement ' ' Shame ' ' Elation       ' ' Euphoria      '\n",
            " ' Contentment   ' ' Serenity      ' ' Gratitude     ' ' Hope          '\n",
            " ' Empowerment   ' ' Compassion    ' ' Tenderness    ' ' Arousal       '\n",
            " ' Enthusiasm    ' ' Fulfillment  ' ' Reverence     ' ' Compassion'\n",
            " ' Fulfillment   ' ' Reverence ' ' Elation   ' ' Despair         '\n",
            " ' Grief           ' ' Loneliness      ' ' Jealousy        '\n",
            " ' Resentment      ' ' Frustration     ' ' Boredom         '\n",
            " ' Anxiety         ' ' Intimidation    ' ' Helplessness    '\n",
            " ' Envy            ' ' Regret         ' ' Disgust         '\n",
            " ' Despair      ' ' Loneliness ' ' Frustration ' ' Anxiety   '\n",
            " ' Intimidation ' ' Helplessness ' ' Jealousy    ' ' Curiosity       '\n",
            " ' Indifference    ' ' Confusion       ' ' Numbness        '\n",
            " ' Melancholy      ' ' Nostalgia       ' ' Ambivalence     '\n",
            " ' Acceptance      ' ' Determination   ' ' Serenity        ' ' Numbness '\n",
            " ' Zest ' ' Contentment ' ' Hopeful ' ' Proud ' ' Grateful '\n",
            " ' Empathetic ' ' Compassionate ' ' Playful ' ' Free-spirited '\n",
            " ' Inspired ' ' Confident ' ' Serenity ' ' Curiosity ' ' Ambivalence '\n",
            " ' Despair ' ' Bitterness ' ' Yearning ' ' Fearful ' ' Apprehensive '\n",
            " ' Overwhelmed ' ' Jealous ' ' Devastated ' ' Frustrated ' ' Envious '\n",
            " ' Dismissive ' ' Awe           ' ' Determination ' ' Nostalgia      '\n",
            " ' Thrill        ' ' Calmness      ' ' Overwhelmed   ' ' Gratitude   '\n",
            " ' Bittersweet ' ' Curiosity     ' ' Admiration    ' ' Overjoyed     '\n",
            " ' Inspiration   ' ' Motivation    ' ' Amusement     ' ' Contemplation '\n",
            " ' JoyfulReunion ' ' Excitement    ' ' Satisfaction  ' ' Blessed       '\n",
            " ' Anticipation  ' ' Reflection    ' ' Nostalgia     ' ' Appreciation  '\n",
            " ' Confidence    ' ' Surprise      ' ' Accomplishment ' ' Wonderment    '\n",
            " ' Optimism      ' ' Pride         ' ' Happiness     ' ' Curiosity   '\n",
            " ' Enchantment   ' ' Intrigue      ' ' PlayfulJoy    ' ' Mindfulness   '\n",
            " ' DreamChaser   ' ' Elegance ' ' Whimsy        ' ' Pensive '\n",
            " ' Thrill      ' ' Harmony    ' ' Creativity   ' ' Radiance    '\n",
            " ' Wonder     ' ' Rejuvenation ' ' Inspiration ' ' Coziness     '\n",
            " ' Gratitude  ' ' Adventure ' ' Euphoria   ' ' Awe    ' ' Melodic       '\n",
            " ' FestiveJoy    ' ' InnerJourney  ' ' Freedom       ' ' Dazzle        '\n",
            " ' Adrenaline     ' ' Harmony       ' ' ArtisticBurst ' ' Radiance      '\n",
            " ' Wonder       ' ' Inspiration  ' ' CulinaryOdyssey ' ' Euphoria     '\n",
            " ' Curiosity  ' ' Resilience   ' ' Immersion ' ' Nostalgia '\n",
            " ' Spark        ' ' Gratitude    ' ' Marvel       ' ' Serenity   '\n",
            " ' Heartbreak    ' ' Loneliness    ' ' Grief      ' ' Despair   '\n",
            " ' Betrayal      ' ' Suffering ' ' EmotionalStorm ' ' Regret        '\n",
            " ' Isolation ' ' Disappointment ' ' LostLove ' ' Melancholy '\n",
            " ' Exhaustion ' ' Sorrow      ' ' Darkness     ' ' Desperation '\n",
            " ' Ruins      ' ' Desolation ' ' Regret ' ' Grief ' ' Heartbreak '\n",
            " ' Betrayal ' ' Resilience ' ' Sorrow ' ' Loss ' ' Heartache '\n",
            " ' Solitude ' ' Joy ' ' Happiness ' ' Enthusiasm ' ' Gratitude '\n",
            " ' Positivity ' ' Kindness ' ' Friendship ' ' Love ' ' Surprise '\n",
            " ' Success ' ' Thrill ' ' Reflection ' ' Enchantment ' ' Exploration '\n",
            " ' Awe ' ' Amazement ' ' Romance ' ' Captivation ' ' Wonder '\n",
            " ' Tranquility ' ' Grandeur ' ' Emotion ' ' Energy ' ' Celebration '\n",
            " ' Charm ' ' Ecstasy ' ' Hope ' ' Creativity ' ' Colorful ' ' Pride '\n",
            " ' Hypnotic ' ' Connection ' ' Iconic ' ' Euphoria ' ' Journey '\n",
            " ' Engagement ' ' Touched ' ' Suspense ' ' Satisfaction ' ' Admiration '\n",
            " ' Triumph ' ' Heartwarming ' ' Obstacle ' ' Sympathy ' ' Pressure '\n",
            " ' Renewed Effort ' ' Miscalculation ' ' Challenge ' ' Solace '\n",
            " ' Breakthrough ' ' Harmony ' ' Joy in Baking ' ' Envisioning History '\n",
            " ' Imagination ' ' Vibrancy ' ' Mesmerizing ' ' Culinary Adventure '\n",
            " ' Winter Magic ' ' Thrilling Journey ' \" Nature's Beauty \"\n",
            " ' Celestial Wonder ' ' Creative Inspiration ' ' Runway Creativity '\n",
            " \" Ocean's Freedom \" ' Whispers of the Past ' ' Boredom ' ' Indifference '\n",
            " ' Disgust ' ' Relief ' ' Positive ' ' Embarrassed ' ' Mischievous '\n",
            " ' Sad ' ' Hate ' ' Bad ' ' Neutral ' ' Happy ']\n"
          ]
        },
        {
          "output_type": "display_data",
          "data": {
            "text/plain": [
              "Empty DataFrame\n",
              "Columns: [Unnamed: 0.1, Unnamed: 0, Text, Sentiment, Timestamp, User, Platform, Hashtags, Retweets, Likes, Country, Year, Month, Day, Hour]\n",
              "Index: []"
            ],
            "text/html": [
              "\n",
              "  <div id=\"df-5dc70136-c264-4d70-8040-4cfc2b2dc18c\" class=\"colab-df-container\">\n",
              "    <div>\n",
              "<style scoped>\n",
              "    .dataframe tbody tr th:only-of-type {\n",
              "        vertical-align: middle;\n",
              "    }\n",
              "\n",
              "    .dataframe tbody tr th {\n",
              "        vertical-align: top;\n",
              "    }\n",
              "\n",
              "    .dataframe thead th {\n",
              "        text-align: right;\n",
              "    }\n",
              "</style>\n",
              "<table border=\"1\" class=\"dataframe\">\n",
              "  <thead>\n",
              "    <tr style=\"text-align: right;\">\n",
              "      <th></th>\n",
              "      <th>Unnamed: 0.1</th>\n",
              "      <th>Unnamed: 0</th>\n",
              "      <th>Text</th>\n",
              "      <th>Sentiment</th>\n",
              "      <th>Timestamp</th>\n",
              "      <th>User</th>\n",
              "      <th>Platform</th>\n",
              "      <th>Hashtags</th>\n",
              "      <th>Retweets</th>\n",
              "      <th>Likes</th>\n",
              "      <th>Country</th>\n",
              "      <th>Year</th>\n",
              "      <th>Month</th>\n",
              "      <th>Day</th>\n",
              "      <th>Hour</th>\n",
              "    </tr>\n",
              "  </thead>\n",
              "  <tbody>\n",
              "  </tbody>\n",
              "</table>\n",
              "</div>\n",
              "    <div class=\"colab-df-buttons\">\n",
              "\n",
              "  <div class=\"colab-df-container\">\n",
              "    <button class=\"colab-df-convert\" onclick=\"convertToInteractive('df-5dc70136-c264-4d70-8040-4cfc2b2dc18c')\"\n",
              "            title=\"Convert this dataframe to an interactive table.\"\n",
              "            style=\"display:none;\">\n",
              "\n",
              "  <svg xmlns=\"http://www.w3.org/2000/svg\" height=\"24px\" viewBox=\"0 -960 960 960\">\n",
              "    <path d=\"M120-120v-720h720v720H120Zm60-500h600v-160H180v160Zm220 220h160v-160H400v160Zm0 220h160v-160H400v160ZM180-400h160v-160H180v160Zm440 0h160v-160H620v160ZM180-180h160v-160H180v160Zm440 0h160v-160H620v160Z\"/>\n",
              "  </svg>\n",
              "    </button>\n",
              "\n",
              "  <style>\n",
              "    .colab-df-container {\n",
              "      display:flex;\n",
              "      gap: 12px;\n",
              "    }\n",
              "\n",
              "    .colab-df-convert {\n",
              "      background-color: #E8F0FE;\n",
              "      border: none;\n",
              "      border-radius: 50%;\n",
              "      cursor: pointer;\n",
              "      display: none;\n",
              "      fill: #1967D2;\n",
              "      height: 32px;\n",
              "      padding: 0 0 0 0;\n",
              "      width: 32px;\n",
              "    }\n",
              "\n",
              "    .colab-df-convert:hover {\n",
              "      background-color: #E2EBFA;\n",
              "      box-shadow: 0px 1px 2px rgba(60, 64, 67, 0.3), 0px 1px 3px 1px rgba(60, 64, 67, 0.15);\n",
              "      fill: #174EA6;\n",
              "    }\n",
              "\n",
              "    .colab-df-buttons div {\n",
              "      margin-bottom: 4px;\n",
              "    }\n",
              "\n",
              "    [theme=dark] .colab-df-convert {\n",
              "      background-color: #3B4455;\n",
              "      fill: #D2E3FC;\n",
              "    }\n",
              "\n",
              "    [theme=dark] .colab-df-convert:hover {\n",
              "      background-color: #434B5C;\n",
              "      box-shadow: 0px 1px 3px 1px rgba(0, 0, 0, 0.15);\n",
              "      filter: drop-shadow(0px 1px 2px rgba(0, 0, 0, 0.3));\n",
              "      fill: #FFFFFF;\n",
              "    }\n",
              "  </style>\n",
              "\n",
              "    <script>\n",
              "      const buttonEl =\n",
              "        document.querySelector('#df-5dc70136-c264-4d70-8040-4cfc2b2dc18c button.colab-df-convert');\n",
              "      buttonEl.style.display =\n",
              "        google.colab.kernel.accessAllowed ? 'block' : 'none';\n",
              "\n",
              "      async function convertToInteractive(key) {\n",
              "        const element = document.querySelector('#df-5dc70136-c264-4d70-8040-4cfc2b2dc18c');\n",
              "        const dataTable =\n",
              "          await google.colab.kernel.invokeFunction('convertToInteractive',\n",
              "                                                    [key], {});\n",
              "        if (!dataTable) return;\n",
              "\n",
              "        const docLinkHtml = 'Like what you see? Visit the ' +\n",
              "          '<a target=\"_blank\" href=https://colab.research.google.com/notebooks/data_table.ipynb>data table notebook</a>'\n",
              "          + ' to learn more about interactive tables.';\n",
              "        element.innerHTML = '';\n",
              "        dataTable['output_type'] = 'display_data';\n",
              "        await google.colab.output.renderOutput(dataTable, element);\n",
              "        const docLink = document.createElement('div');\n",
              "        docLink.innerHTML = docLinkHtml;\n",
              "        element.appendChild(docLink);\n",
              "      }\n",
              "    </script>\n",
              "  </div>\n",
              "\n",
              "\n",
              "    </div>\n",
              "  </div>\n"
            ],
            "application/vnd.google.colaboratory.intrinsic+json": {
              "type": "dataframe",
              "repr_error": "Out of range float values are not JSON compliant: nan"
            }
          },
          "metadata": {}
        }
      ]
    },
    {
      "cell_type": "markdown",
      "metadata": {
        "id": "a4209fcf"
      },
      "source": [
        "**Reasoning**:\n",
        "The filtering did not work as expected because of leading/trailing spaces in the sentiment labels. I need to clean the 'Sentiment' column by stripping whitespace before filtering.\n",
        "\n"
      ]
    },
    {
      "cell_type": "code",
      "metadata": {
        "colab": {
          "base_uri": "https://localhost:8080/",
          "height": 935
        },
        "id": "4103043b",
        "outputId": "24802d39-c7c2-455a-cb43-eb96321cab3d"
      },
      "source": [
        "# Strip leading/trailing whitespace from the 'Sentiment' column\n",
        "df['Sentiment'] = df['Sentiment'].str.strip()\n",
        "\n",
        "# Identify unique sentiment classes again after stripping whitespace\n",
        "unique_sentiments_cleaned = df['Sentiment'].unique()\n",
        "print(\"Unique sentiment classes after cleaning:\", unique_sentiments_cleaned)\n",
        "\n",
        "# Choose two classes for binary classification (e.g., 'Positive' and 'Negative')\n",
        "chosen_classes = ['Positive', 'Negative']\n",
        "\n",
        "# Filter the DataFrame to include only the chosen classes\n",
        "df_binary = df[df['Sentiment'].isin(chosen_classes)].copy()\n",
        "\n",
        "# Display the first few rows and the shape of the filtered DataFrame\n",
        "display(df_binary.head())\n",
        "print(\"Shape of the binary DataFrame:\", df_binary.shape)"
      ],
      "execution_count": 10,
      "outputs": [
        {
          "output_type": "stream",
          "name": "stdout",
          "text": [
            "Unique sentiment classes after cleaning: ['Positive' 'Negative' 'Neutral' 'Anger' 'Fear' 'Sadness' 'Disgust'\n",
            " 'Happiness' 'Joy' 'Love' 'Amusement' 'Enjoyment' 'Admiration' 'Affection'\n",
            " 'Awe' 'Disappointed' 'Surprise' 'Acceptance' 'Adoration' 'Anticipation'\n",
            " 'Bitter' 'Calmness' 'Confusion' 'Excitement' 'Kind' 'Pride' 'Shame'\n",
            " 'Elation' 'Euphoria' 'Contentment' 'Serenity' 'Gratitude' 'Hope'\n",
            " 'Empowerment' 'Compassion' 'Tenderness' 'Arousal' 'Enthusiasm'\n",
            " 'Fulfillment' 'Reverence' 'Despair' 'Grief' 'Loneliness' 'Jealousy'\n",
            " 'Resentment' 'Frustration' 'Boredom' 'Anxiety' 'Intimidation'\n",
            " 'Helplessness' 'Envy' 'Regret' 'Curiosity' 'Indifference' 'Numbness'\n",
            " 'Melancholy' 'Nostalgia' 'Ambivalence' 'Determination' 'Zest' 'Hopeful'\n",
            " 'Proud' 'Grateful' 'Empathetic' 'Compassionate' 'Playful' 'Free-spirited'\n",
            " 'Inspired' 'Confident' 'Bitterness' 'Yearning' 'Fearful' 'Apprehensive'\n",
            " 'Overwhelmed' 'Jealous' 'Devastated' 'Frustrated' 'Envious' 'Dismissive'\n",
            " 'Thrill' 'Bittersweet' 'Overjoyed' 'Inspiration' 'Motivation'\n",
            " 'Contemplation' 'JoyfulReunion' 'Satisfaction' 'Blessed' 'Reflection'\n",
            " 'Appreciation' 'Confidence' 'Accomplishment' 'Wonderment' 'Optimism'\n",
            " 'Enchantment' 'Intrigue' 'PlayfulJoy' 'Mindfulness' 'DreamChaser'\n",
            " 'Elegance' 'Whimsy' 'Pensive' 'Harmony' 'Creativity' 'Radiance' 'Wonder'\n",
            " 'Rejuvenation' 'Coziness' 'Adventure' 'Melodic' 'FestiveJoy'\n",
            " 'InnerJourney' 'Freedom' 'Dazzle' 'Adrenaline' 'ArtisticBurst'\n",
            " 'CulinaryOdyssey' 'Resilience' 'Immersion' 'Spark' 'Marvel' 'Heartbreak'\n",
            " 'Betrayal' 'Suffering' 'EmotionalStorm' 'Isolation' 'Disappointment'\n",
            " 'LostLove' 'Exhaustion' 'Sorrow' 'Darkness' 'Desperation' 'Ruins'\n",
            " 'Desolation' 'Loss' 'Heartache' 'Solitude' 'Positivity' 'Kindness'\n",
            " 'Friendship' 'Success' 'Exploration' 'Amazement' 'Romance' 'Captivation'\n",
            " 'Tranquility' 'Grandeur' 'Emotion' 'Energy' 'Celebration' 'Charm'\n",
            " 'Ecstasy' 'Colorful' 'Hypnotic' 'Connection' 'Iconic' 'Journey'\n",
            " 'Engagement' 'Touched' 'Suspense' 'Triumph' 'Heartwarming' 'Obstacle'\n",
            " 'Sympathy' 'Pressure' 'Renewed Effort' 'Miscalculation' 'Challenge'\n",
            " 'Solace' 'Breakthrough' 'Joy in Baking' 'Envisioning History'\n",
            " 'Imagination' 'Vibrancy' 'Mesmerizing' 'Culinary Adventure'\n",
            " 'Winter Magic' 'Thrilling Journey' \"Nature's Beauty\" 'Celestial Wonder'\n",
            " 'Creative Inspiration' 'Runway Creativity' \"Ocean's Freedom\"\n",
            " 'Whispers of the Past' 'Relief' 'Embarrassed' 'Mischievous' 'Sad' 'Hate'\n",
            " 'Bad' 'Happy']\n"
          ]
        },
        {
          "output_type": "display_data",
          "data": {
            "text/plain": [
              "   Unnamed: 0.1  Unnamed: 0                                            Text  \\\n",
              "0             0           0            enjoying a beautiful day at the park   \n",
              "1             1           1               traffic was terrible this morning   \n",
              "2             2           2                just finished an amazing workout   \n",
              "3             3           3      excited about the upcoming weekend getaway   \n",
              "5             5           5  feeling grateful for the little things in life   \n",
              "\n",
              "  Sentiment            Timestamp            User     Platform  \\\n",
              "0  Positive  2023-01-15 12:30:00   User123          Twitter     \n",
              "1  Negative  2023-01-15 08:45:00   CommuterX        Twitter     \n",
              "2  Positive  2023-01-15 15:45:00   FitnessFan      Instagram    \n",
              "3  Positive  2023-01-15 18:20:00   AdventureX       Facebook    \n",
              "5  Positive  2023-01-16 09:10:00   GratitudeNow     Twitter     \n",
              "\n",
              "                                     Hashtags  Retweets  Likes       Country  \\\n",
              "0   #Nature #Park                                  15.0   30.0     USA         \n",
              "1   #Traffic #Morning                               5.0   10.0     Canada      \n",
              "2   #Fitness #Workout                              20.0   40.0   USA           \n",
              "3   #Travel #Adventure                              8.0   15.0     UK          \n",
              "5     #Gratitude #PositiveVibes                    25.0   50.0     India       \n",
              "\n",
              "   Year  Month  Day  Hour  \n",
              "0  2023      1   15    12  \n",
              "1  2023      1   15     8  \n",
              "2  2023      1   15    15  \n",
              "3  2023      1   15    18  \n",
              "5  2023      1   16     9  "
            ],
            "text/html": [
              "\n",
              "  <div id=\"df-92d6aca6-cdb7-4d29-a6b1-e2e4548da5a2\" class=\"colab-df-container\">\n",
              "    <div>\n",
              "<style scoped>\n",
              "    .dataframe tbody tr th:only-of-type {\n",
              "        vertical-align: middle;\n",
              "    }\n",
              "\n",
              "    .dataframe tbody tr th {\n",
              "        vertical-align: top;\n",
              "    }\n",
              "\n",
              "    .dataframe thead th {\n",
              "        text-align: right;\n",
              "    }\n",
              "</style>\n",
              "<table border=\"1\" class=\"dataframe\">\n",
              "  <thead>\n",
              "    <tr style=\"text-align: right;\">\n",
              "      <th></th>\n",
              "      <th>Unnamed: 0.1</th>\n",
              "      <th>Unnamed: 0</th>\n",
              "      <th>Text</th>\n",
              "      <th>Sentiment</th>\n",
              "      <th>Timestamp</th>\n",
              "      <th>User</th>\n",
              "      <th>Platform</th>\n",
              "      <th>Hashtags</th>\n",
              "      <th>Retweets</th>\n",
              "      <th>Likes</th>\n",
              "      <th>Country</th>\n",
              "      <th>Year</th>\n",
              "      <th>Month</th>\n",
              "      <th>Day</th>\n",
              "      <th>Hour</th>\n",
              "    </tr>\n",
              "  </thead>\n",
              "  <tbody>\n",
              "    <tr>\n",
              "      <th>0</th>\n",
              "      <td>0</td>\n",
              "      <td>0</td>\n",
              "      <td>enjoying a beautiful day at the park</td>\n",
              "      <td>Positive</td>\n",
              "      <td>2023-01-15 12:30:00</td>\n",
              "      <td>User123</td>\n",
              "      <td>Twitter</td>\n",
              "      <td>#Nature #Park</td>\n",
              "      <td>15.0</td>\n",
              "      <td>30.0</td>\n",
              "      <td>USA</td>\n",
              "      <td>2023</td>\n",
              "      <td>1</td>\n",
              "      <td>15</td>\n",
              "      <td>12</td>\n",
              "    </tr>\n",
              "    <tr>\n",
              "      <th>1</th>\n",
              "      <td>1</td>\n",
              "      <td>1</td>\n",
              "      <td>traffic was terrible this morning</td>\n",
              "      <td>Negative</td>\n",
              "      <td>2023-01-15 08:45:00</td>\n",
              "      <td>CommuterX</td>\n",
              "      <td>Twitter</td>\n",
              "      <td>#Traffic #Morning</td>\n",
              "      <td>5.0</td>\n",
              "      <td>10.0</td>\n",
              "      <td>Canada</td>\n",
              "      <td>2023</td>\n",
              "      <td>1</td>\n",
              "      <td>15</td>\n",
              "      <td>8</td>\n",
              "    </tr>\n",
              "    <tr>\n",
              "      <th>2</th>\n",
              "      <td>2</td>\n",
              "      <td>2</td>\n",
              "      <td>just finished an amazing workout</td>\n",
              "      <td>Positive</td>\n",
              "      <td>2023-01-15 15:45:00</td>\n",
              "      <td>FitnessFan</td>\n",
              "      <td>Instagram</td>\n",
              "      <td>#Fitness #Workout</td>\n",
              "      <td>20.0</td>\n",
              "      <td>40.0</td>\n",
              "      <td>USA</td>\n",
              "      <td>2023</td>\n",
              "      <td>1</td>\n",
              "      <td>15</td>\n",
              "      <td>15</td>\n",
              "    </tr>\n",
              "    <tr>\n",
              "      <th>3</th>\n",
              "      <td>3</td>\n",
              "      <td>3</td>\n",
              "      <td>excited about the upcoming weekend getaway</td>\n",
              "      <td>Positive</td>\n",
              "      <td>2023-01-15 18:20:00</td>\n",
              "      <td>AdventureX</td>\n",
              "      <td>Facebook</td>\n",
              "      <td>#Travel #Adventure</td>\n",
              "      <td>8.0</td>\n",
              "      <td>15.0</td>\n",
              "      <td>UK</td>\n",
              "      <td>2023</td>\n",
              "      <td>1</td>\n",
              "      <td>15</td>\n",
              "      <td>18</td>\n",
              "    </tr>\n",
              "    <tr>\n",
              "      <th>5</th>\n",
              "      <td>5</td>\n",
              "      <td>5</td>\n",
              "      <td>feeling grateful for the little things in life</td>\n",
              "      <td>Positive</td>\n",
              "      <td>2023-01-16 09:10:00</td>\n",
              "      <td>GratitudeNow</td>\n",
              "      <td>Twitter</td>\n",
              "      <td>#Gratitude #PositiveVibes</td>\n",
              "      <td>25.0</td>\n",
              "      <td>50.0</td>\n",
              "      <td>India</td>\n",
              "      <td>2023</td>\n",
              "      <td>1</td>\n",
              "      <td>16</td>\n",
              "      <td>9</td>\n",
              "    </tr>\n",
              "  </tbody>\n",
              "</table>\n",
              "</div>\n",
              "    <div class=\"colab-df-buttons\">\n",
              "\n",
              "  <div class=\"colab-df-container\">\n",
              "    <button class=\"colab-df-convert\" onclick=\"convertToInteractive('df-92d6aca6-cdb7-4d29-a6b1-e2e4548da5a2')\"\n",
              "            title=\"Convert this dataframe to an interactive table.\"\n",
              "            style=\"display:none;\">\n",
              "\n",
              "  <svg xmlns=\"http://www.w3.org/2000/svg\" height=\"24px\" viewBox=\"0 -960 960 960\">\n",
              "    <path d=\"M120-120v-720h720v720H120Zm60-500h600v-160H180v160Zm220 220h160v-160H400v160Zm0 220h160v-160H400v160ZM180-400h160v-160H180v160Zm440 0h160v-160H620v160ZM180-180h160v-160H180v160Zm440 0h160v-160H620v160Z\"/>\n",
              "  </svg>\n",
              "    </button>\n",
              "\n",
              "  <style>\n",
              "    .colab-df-container {\n",
              "      display:flex;\n",
              "      gap: 12px;\n",
              "    }\n",
              "\n",
              "    .colab-df-convert {\n",
              "      background-color: #E8F0FE;\n",
              "      border: none;\n",
              "      border-radius: 50%;\n",
              "      cursor: pointer;\n",
              "      display: none;\n",
              "      fill: #1967D2;\n",
              "      height: 32px;\n",
              "      padding: 0 0 0 0;\n",
              "      width: 32px;\n",
              "    }\n",
              "\n",
              "    .colab-df-convert:hover {\n",
              "      background-color: #E2EBFA;\n",
              "      box-shadow: 0px 1px 2px rgba(60, 64, 67, 0.3), 0px 1px 3px 1px rgba(60, 64, 67, 0.15);\n",
              "      fill: #174EA6;\n",
              "    }\n",
              "\n",
              "    .colab-df-buttons div {\n",
              "      margin-bottom: 4px;\n",
              "    }\n",
              "\n",
              "    [theme=dark] .colab-df-convert {\n",
              "      background-color: #3B4455;\n",
              "      fill: #D2E3FC;\n",
              "    }\n",
              "\n",
              "    [theme=dark] .colab-df-convert:hover {\n",
              "      background-color: #434B5C;\n",
              "      box-shadow: 0px 1px 3px 1px rgba(0, 0, 0, 0.15);\n",
              "      filter: drop-shadow(0px 1px 2px rgba(0, 0, 0, 0.3));\n",
              "      fill: #FFFFFF;\n",
              "    }\n",
              "  </style>\n",
              "\n",
              "    <script>\n",
              "      const buttonEl =\n",
              "        document.querySelector('#df-92d6aca6-cdb7-4d29-a6b1-e2e4548da5a2 button.colab-df-convert');\n",
              "      buttonEl.style.display =\n",
              "        google.colab.kernel.accessAllowed ? 'block' : 'none';\n",
              "\n",
              "      async function convertToInteractive(key) {\n",
              "        const element = document.querySelector('#df-92d6aca6-cdb7-4d29-a6b1-e2e4548da5a2');\n",
              "        const dataTable =\n",
              "          await google.colab.kernel.invokeFunction('convertToInteractive',\n",
              "                                                    [key], {});\n",
              "        if (!dataTable) return;\n",
              "\n",
              "        const docLinkHtml = 'Like what you see? Visit the ' +\n",
              "          '<a target=\"_blank\" href=https://colab.research.google.com/notebooks/data_table.ipynb>data table notebook</a>'\n",
              "          + ' to learn more about interactive tables.';\n",
              "        element.innerHTML = '';\n",
              "        dataTable['output_type'] = 'display_data';\n",
              "        await google.colab.output.renderOutput(dataTable, element);\n",
              "        const docLink = document.createElement('div');\n",
              "        docLink.innerHTML = docLinkHtml;\n",
              "        element.appendChild(docLink);\n",
              "      }\n",
              "    </script>\n",
              "  </div>\n",
              "\n",
              "\n",
              "    <div id=\"df-1e6d8fa4-bbd0-4288-b9a2-c78235e3a180\">\n",
              "      <button class=\"colab-df-quickchart\" onclick=\"quickchart('df-1e6d8fa4-bbd0-4288-b9a2-c78235e3a180')\"\n",
              "                title=\"Suggest charts\"\n",
              "                style=\"display:none;\">\n",
              "\n",
              "<svg xmlns=\"http://www.w3.org/2000/svg\" height=\"24px\"viewBox=\"0 0 24 24\"\n",
              "     width=\"24px\">\n",
              "    <g>\n",
              "        <path d=\"M19 3H5c-1.1 0-2 .9-2 2v14c0 1.1.9 2 2 2h14c1.1 0 2-.9 2-2V5c0-1.1-.9-2-2-2zM9 17H7v-7h2v7zm4 0h-2V7h2v10zm4 0h-2v-4h2v4z\"/>\n",
              "    </g>\n",
              "</svg>\n",
              "      </button>\n",
              "\n",
              "<style>\n",
              "  .colab-df-quickchart {\n",
              "      --bg-color: #E8F0FE;\n",
              "      --fill-color: #1967D2;\n",
              "      --hover-bg-color: #E2EBFA;\n",
              "      --hover-fill-color: #174EA6;\n",
              "      --disabled-fill-color: #AAA;\n",
              "      --disabled-bg-color: #DDD;\n",
              "  }\n",
              "\n",
              "  [theme=dark] .colab-df-quickchart {\n",
              "      --bg-color: #3B4455;\n",
              "      --fill-color: #D2E3FC;\n",
              "      --hover-bg-color: #434B5C;\n",
              "      --hover-fill-color: #FFFFFF;\n",
              "      --disabled-bg-color: #3B4455;\n",
              "      --disabled-fill-color: #666;\n",
              "  }\n",
              "\n",
              "  .colab-df-quickchart {\n",
              "    background-color: var(--bg-color);\n",
              "    border: none;\n",
              "    border-radius: 50%;\n",
              "    cursor: pointer;\n",
              "    display: none;\n",
              "    fill: var(--fill-color);\n",
              "    height: 32px;\n",
              "    padding: 0;\n",
              "    width: 32px;\n",
              "  }\n",
              "\n",
              "  .colab-df-quickchart:hover {\n",
              "    background-color: var(--hover-bg-color);\n",
              "    box-shadow: 0 1px 2px rgba(60, 64, 67, 0.3), 0 1px 3px 1px rgba(60, 64, 67, 0.15);\n",
              "    fill: var(--button-hover-fill-color);\n",
              "  }\n",
              "\n",
              "  .colab-df-quickchart-complete:disabled,\n",
              "  .colab-df-quickchart-complete:disabled:hover {\n",
              "    background-color: var(--disabled-bg-color);\n",
              "    fill: var(--disabled-fill-color);\n",
              "    box-shadow: none;\n",
              "  }\n",
              "\n",
              "  .colab-df-spinner {\n",
              "    border: 2px solid var(--fill-color);\n",
              "    border-color: transparent;\n",
              "    border-bottom-color: var(--fill-color);\n",
              "    animation:\n",
              "      spin 1s steps(1) infinite;\n",
              "  }\n",
              "\n",
              "  @keyframes spin {\n",
              "    0% {\n",
              "      border-color: transparent;\n",
              "      border-bottom-color: var(--fill-color);\n",
              "      border-left-color: var(--fill-color);\n",
              "    }\n",
              "    20% {\n",
              "      border-color: transparent;\n",
              "      border-left-color: var(--fill-color);\n",
              "      border-top-color: var(--fill-color);\n",
              "    }\n",
              "    30% {\n",
              "      border-color: transparent;\n",
              "      border-left-color: var(--fill-color);\n",
              "      border-top-color: var(--fill-color);\n",
              "      border-right-color: var(--fill-color);\n",
              "    }\n",
              "    40% {\n",
              "      border-color: transparent;\n",
              "      border-right-color: var(--fill-color);\n",
              "      border-top-color: var(--fill-color);\n",
              "    }\n",
              "    60% {\n",
              "      border-color: transparent;\n",
              "      border-right-color: var(--fill-color);\n",
              "    }\n",
              "    80% {\n",
              "      border-color: transparent;\n",
              "      border-right-color: var(--fill-color);\n",
              "      border-bottom-color: var(--fill-color);\n",
              "    }\n",
              "    90% {\n",
              "      border-color: transparent;\n",
              "      border-bottom-color: var(--fill-color);\n",
              "    }\n",
              "  }\n",
              "</style>\n",
              "\n",
              "      <script>\n",
              "        async function quickchart(key) {\n",
              "          const quickchartButtonEl =\n",
              "            document.querySelector('#' + key + ' button');\n",
              "          quickchartButtonEl.disabled = true;  // To prevent multiple clicks.\n",
              "          quickchartButtonEl.classList.add('colab-df-spinner');\n",
              "          try {\n",
              "            const charts = await google.colab.kernel.invokeFunction(\n",
              "                'suggestCharts', [key], {});\n",
              "          } catch (error) {\n",
              "            console.error('Error during call to suggestCharts:', error);\n",
              "          }\n",
              "          quickchartButtonEl.classList.remove('colab-df-spinner');\n",
              "          quickchartButtonEl.classList.add('colab-df-quickchart-complete');\n",
              "        }\n",
              "        (() => {\n",
              "          let quickchartButtonEl =\n",
              "            document.querySelector('#df-1e6d8fa4-bbd0-4288-b9a2-c78235e3a180 button');\n",
              "          quickchartButtonEl.style.display =\n",
              "            google.colab.kernel.accessAllowed ? 'block' : 'none';\n",
              "        })();\n",
              "      </script>\n",
              "    </div>\n",
              "\n",
              "    </div>\n",
              "  </div>\n"
            ],
            "application/vnd.google.colaboratory.intrinsic+json": {
              "type": "dataframe",
              "summary": "{\n  \"name\": \"print(\\\"Shape of the binary DataFrame:\\\", df_binary\",\n  \"rows\": 5,\n  \"fields\": [\n    {\n      \"column\": \"Unnamed: 0.1\",\n      \"properties\": {\n        \"dtype\": \"number\",\n        \"std\": 1,\n        \"min\": 0,\n        \"max\": 5,\n        \"num_unique_values\": 5,\n        \"samples\": [\n          1,\n          5,\n          2\n        ],\n        \"semantic_type\": \"\",\n        \"description\": \"\"\n      }\n    },\n    {\n      \"column\": \"Unnamed: 0\",\n      \"properties\": {\n        \"dtype\": \"number\",\n        \"std\": 1,\n        \"min\": 0,\n        \"max\": 5,\n        \"num_unique_values\": 5,\n        \"samples\": [\n          1,\n          5,\n          2\n        ],\n        \"semantic_type\": \"\",\n        \"description\": \"\"\n      }\n    },\n    {\n      \"column\": \"Text\",\n      \"properties\": {\n        \"dtype\": \"string\",\n        \"num_unique_values\": 5,\n        \"samples\": [\n          \"traffic was terrible this morning\",\n          \"feeling grateful for the little things in life\",\n          \"just finished an amazing workout\"\n        ],\n        \"semantic_type\": \"\",\n        \"description\": \"\"\n      }\n    },\n    {\n      \"column\": \"Sentiment\",\n      \"properties\": {\n        \"dtype\": \"category\",\n        \"num_unique_values\": 2,\n        \"samples\": [\n          \"Negative\",\n          \"Positive\"\n        ],\n        \"semantic_type\": \"\",\n        \"description\": \"\"\n      }\n    },\n    {\n      \"column\": \"Timestamp\",\n      \"properties\": {\n        \"dtype\": \"object\",\n        \"num_unique_values\": 5,\n        \"samples\": [\n          \"2023-01-15 08:45:00\",\n          \"2023-01-16 09:10:00\"\n        ],\n        \"semantic_type\": \"\",\n        \"description\": \"\"\n      }\n    },\n    {\n      \"column\": \"User\",\n      \"properties\": {\n        \"dtype\": \"string\",\n        \"num_unique_values\": 5,\n        \"samples\": [\n          \" CommuterX    \",\n          \" GratitudeNow \"\n        ],\n        \"semantic_type\": \"\",\n        \"description\": \"\"\n      }\n    },\n    {\n      \"column\": \"Platform\",\n      \"properties\": {\n        \"dtype\": \"string\",\n        \"num_unique_values\": 3,\n        \"samples\": [\n          \" Twitter  \",\n          \" Instagram \"\n        ],\n        \"semantic_type\": \"\",\n        \"description\": \"\"\n      }\n    },\n    {\n      \"column\": \"Hashtags\",\n      \"properties\": {\n        \"dtype\": \"string\",\n        \"num_unique_values\": 5,\n        \"samples\": [\n          \" #Traffic #Morning                        \",\n          \" #Gratitude #PositiveVibes              \"\n        ],\n        \"semantic_type\": \"\",\n        \"description\": \"\"\n      }\n    },\n    {\n      \"column\": \"Retweets\",\n      \"properties\": {\n        \"dtype\": \"number\",\n        \"std\": 8.264381404557755,\n        \"min\": 5.0,\n        \"max\": 25.0,\n        \"num_unique_values\": 5,\n        \"samples\": [\n          5.0,\n          25.0\n        ],\n        \"semantic_type\": \"\",\n        \"description\": \"\"\n      }\n    },\n    {\n      \"column\": \"Likes\",\n      \"properties\": {\n        \"dtype\": \"number\",\n        \"std\": 16.73320053068151,\n        \"min\": 10.0,\n        \"max\": 50.0,\n        \"num_unique_values\": 5,\n        \"samples\": [\n          10.0,\n          50.0\n        ],\n        \"semantic_type\": \"\",\n        \"description\": \"\"\n      }\n    },\n    {\n      \"column\": \"Country\",\n      \"properties\": {\n        \"dtype\": \"string\",\n        \"num_unique_values\": 5,\n        \"samples\": [\n          \" Canada   \",\n          \" India    \"\n        ],\n        \"semantic_type\": \"\",\n        \"description\": \"\"\n      }\n    },\n    {\n      \"column\": \"Year\",\n      \"properties\": {\n        \"dtype\": \"number\",\n        \"std\": 0,\n        \"min\": 2023,\n        \"max\": 2023,\n        \"num_unique_values\": 1,\n        \"samples\": [\n          2023\n        ],\n        \"semantic_type\": \"\",\n        \"description\": \"\"\n      }\n    },\n    {\n      \"column\": \"Month\",\n      \"properties\": {\n        \"dtype\": \"number\",\n        \"std\": 0,\n        \"min\": 1,\n        \"max\": 1,\n        \"num_unique_values\": 1,\n        \"samples\": [\n          1\n        ],\n        \"semantic_type\": \"\",\n        \"description\": \"\"\n      }\n    },\n    {\n      \"column\": \"Day\",\n      \"properties\": {\n        \"dtype\": \"number\",\n        \"std\": 0,\n        \"min\": 15,\n        \"max\": 16,\n        \"num_unique_values\": 2,\n        \"samples\": [\n          16\n        ],\n        \"semantic_type\": \"\",\n        \"description\": \"\"\n      }\n    },\n    {\n      \"column\": \"Hour\",\n      \"properties\": {\n        \"dtype\": \"number\",\n        \"std\": 4,\n        \"min\": 8,\n        \"max\": 18,\n        \"num_unique_values\": 5,\n        \"samples\": [\n          8\n        ],\n        \"semantic_type\": \"\",\n        \"description\": \"\"\n      }\n    }\n  ]\n}"
            }
          },
          "metadata": {}
        },
        {
          "output_type": "stream",
          "name": "stdout",
          "text": [
            "Shape of the binary DataFrame: (49, 15)\n"
          ]
        }
      ]
    },
    {
      "cell_type": "markdown",
      "metadata": {
        "id": "efe26966"
      },
      "source": [
        "## Prepare data for binary classification\n",
        "\n",
        "### Subtask:\n",
        "Re-encode the labels for the two classes and split the data into training and testing sets.\n"
      ]
    },
    {
      "cell_type": "markdown",
      "metadata": {
        "id": "650ba8d3"
      },
      "source": [
        "**Reasoning**:\n",
        "Re-encode the labels for the two classes and split the data into training and testing sets as instructed.\n",
        "\n"
      ]
    },
    {
      "cell_type": "code",
      "metadata": {
        "colab": {
          "base_uri": "https://localhost:8080/"
        },
        "id": "96d145b4",
        "outputId": "db85734c-f4df-48c0-e793-3270718280c9"
      },
      "source": [
        "# Re-encode sentiment labels for binary classification\n",
        "label_encoder_binary = LabelEncoder()\n",
        "binary_labels = label_encoder_binary.fit_transform(df_binary['Sentiment'])\n",
        "\n",
        "# Tokenization and Padding for the binary data\n",
        "binary_sequences = tokenizer.texts_to_sequences(df_binary['Text'])\n",
        "binary_padded_sequences = pad_sequences(binary_sequences, maxlen=max_length, padding='post', truncating='post')\n",
        "\n",
        "# Split data into training and testing sets for binary classification\n",
        "X_train_binary, X_test_binary, y_train_binary, y_test_binary = train_test_split(\n",
        "    binary_padded_sequences, binary_labels, test_size=0.2, random_state=42\n",
        ")\n",
        "\n",
        "# Print the shapes of the resulting sets\n",
        "print(\"Shape of X_train_binary:\", X_train_binary.shape)\n",
        "print(\"Shape of X_test_binary:\", X_test_binary.shape)\n",
        "print(\"Shape of y_train_binary:\", y_train_binary.shape)\n",
        "print(\"Shape of y_test_binary:\", y_test_binary.shape)"
      ],
      "execution_count": 11,
      "outputs": [
        {
          "output_type": "stream",
          "name": "stdout",
          "text": [
            "Shape of X_train_binary: (39, 100)\n",
            "Shape of X_test_binary: (10, 100)\n",
            "Shape of y_train_binary: (39,)\n",
            "Shape of y_test_binary: (10,)\n"
          ]
        }
      ]
    },
    {
      "cell_type": "markdown",
      "metadata": {
        "id": "80a405d3"
      },
      "source": [
        "## Modify lstm model for binary classification\n",
        "\n",
        "### Subtask:\n",
        "Adjust the final Dense layer of the LSTM model for binary output and change the loss function.\n"
      ]
    },
    {
      "cell_type": "markdown",
      "metadata": {
        "id": "80c01277"
      },
      "source": [
        "**Reasoning**:\n",
        "Adjust the final Dense layer and loss function of the LSTM model for binary classification.\n",
        "\n"
      ]
    },
    {
      "cell_type": "code",
      "metadata": {
        "colab": {
          "base_uri": "https://localhost:8080/",
          "height": 346
        },
        "id": "daf70e9c",
        "outputId": "88cb474e-de46-41a4-eebd-80639ccd6ac4"
      },
      "source": [
        "# Build the LSTM model for binary classification\n",
        "embedding_dim = 16  # Keep the same embedding dimension\n",
        "model_binary = Sequential([\n",
        "    Embedding(input_dim=5000, output_dim=embedding_dim, input_length=max_length),\n",
        "    LSTM(64),\n",
        "    Dense(24, activation='relu'),\n",
        "    Dropout(0.5),\n",
        "    Dense(1, activation='sigmoid')  # Final layer with 1 unit and sigmoid activation for binary output\n",
        "])\n",
        "\n",
        "# Compile the binary model\n",
        "model_binary.compile(loss='binary_crossentropy', optimizer='adam', metrics=['accuracy'])\n",
        "\n",
        "# Print the binary model summary\n",
        "model_binary.summary()"
      ],
      "execution_count": 12,
      "outputs": [
        {
          "output_type": "stream",
          "name": "stderr",
          "text": [
            "/usr/local/lib/python3.12/dist-packages/keras/src/layers/core/embedding.py:97: UserWarning: Argument `input_length` is deprecated. Just remove it.\n",
            "  warnings.warn(\n"
          ]
        },
        {
          "output_type": "display_data",
          "data": {
            "text/plain": [
              "\u001b[1mModel: \"sequential_1\"\u001b[0m\n"
            ],
            "text/html": [
              "<pre style=\"white-space:pre;overflow-x:auto;line-height:normal;font-family:Menlo,'DejaVu Sans Mono',consolas,'Courier New',monospace\"><span style=\"font-weight: bold\">Model: \"sequential_1\"</span>\n",
              "</pre>\n"
            ]
          },
          "metadata": {}
        },
        {
          "output_type": "display_data",
          "data": {
            "text/plain": [
              "┏━━━━━━━━━━━━━━━━━━━━━━━━━━━━━━━━━┳━━━━━━━━━━━━━━━━━━━━━━━━┳━━━━━━━━━━━━━━━┓\n",
              "┃\u001b[1m \u001b[0m\u001b[1mLayer (type)                   \u001b[0m\u001b[1m \u001b[0m┃\u001b[1m \u001b[0m\u001b[1mOutput Shape          \u001b[0m\u001b[1m \u001b[0m┃\u001b[1m \u001b[0m\u001b[1m      Param #\u001b[0m\u001b[1m \u001b[0m┃\n",
              "┡━━━━━━━━━━━━━━━━━━━━━━━━━━━━━━━━━╇━━━━━━━━━━━━━━━━━━━━━━━━╇━━━━━━━━━━━━━━━┩\n",
              "│ embedding_1 (\u001b[38;5;33mEmbedding\u001b[0m)         │ ?                      │   \u001b[38;5;34m0\u001b[0m (unbuilt) │\n",
              "├─────────────────────────────────┼────────────────────────┼───────────────┤\n",
              "│ lstm_1 (\u001b[38;5;33mLSTM\u001b[0m)                   │ ?                      │   \u001b[38;5;34m0\u001b[0m (unbuilt) │\n",
              "├─────────────────────────────────┼────────────────────────┼───────────────┤\n",
              "│ dense_2 (\u001b[38;5;33mDense\u001b[0m)                 │ ?                      │   \u001b[38;5;34m0\u001b[0m (unbuilt) │\n",
              "├─────────────────────────────────┼────────────────────────┼───────────────┤\n",
              "│ dropout_1 (\u001b[38;5;33mDropout\u001b[0m)             │ ?                      │             \u001b[38;5;34m0\u001b[0m │\n",
              "├─────────────────────────────────┼────────────────────────┼───────────────┤\n",
              "│ dense_3 (\u001b[38;5;33mDense\u001b[0m)                 │ ?                      │   \u001b[38;5;34m0\u001b[0m (unbuilt) │\n",
              "└─────────────────────────────────┴────────────────────────┴───────────────┘\n"
            ],
            "text/html": [
              "<pre style=\"white-space:pre;overflow-x:auto;line-height:normal;font-family:Menlo,'DejaVu Sans Mono',consolas,'Courier New',monospace\">┏━━━━━━━━━━━━━━━━━━━━━━━━━━━━━━━━━┳━━━━━━━━━━━━━━━━━━━━━━━━┳━━━━━━━━━━━━━━━┓\n",
              "┃<span style=\"font-weight: bold\"> Layer (type)                    </span>┃<span style=\"font-weight: bold\"> Output Shape           </span>┃<span style=\"font-weight: bold\">       Param # </span>┃\n",
              "┡━━━━━━━━━━━━━━━━━━━━━━━━━━━━━━━━━╇━━━━━━━━━━━━━━━━━━━━━━━━╇━━━━━━━━━━━━━━━┩\n",
              "│ embedding_1 (<span style=\"color: #0087ff; text-decoration-color: #0087ff\">Embedding</span>)         │ ?                      │   <span style=\"color: #00af00; text-decoration-color: #00af00\">0</span> (unbuilt) │\n",
              "├─────────────────────────────────┼────────────────────────┼───────────────┤\n",
              "│ lstm_1 (<span style=\"color: #0087ff; text-decoration-color: #0087ff\">LSTM</span>)                   │ ?                      │   <span style=\"color: #00af00; text-decoration-color: #00af00\">0</span> (unbuilt) │\n",
              "├─────────────────────────────────┼────────────────────────┼───────────────┤\n",
              "│ dense_2 (<span style=\"color: #0087ff; text-decoration-color: #0087ff\">Dense</span>)                 │ ?                      │   <span style=\"color: #00af00; text-decoration-color: #00af00\">0</span> (unbuilt) │\n",
              "├─────────────────────────────────┼────────────────────────┼───────────────┤\n",
              "│ dropout_1 (<span style=\"color: #0087ff; text-decoration-color: #0087ff\">Dropout</span>)             │ ?                      │             <span style=\"color: #00af00; text-decoration-color: #00af00\">0</span> │\n",
              "├─────────────────────────────────┼────────────────────────┼───────────────┤\n",
              "│ dense_3 (<span style=\"color: #0087ff; text-decoration-color: #0087ff\">Dense</span>)                 │ ?                      │   <span style=\"color: #00af00; text-decoration-color: #00af00\">0</span> (unbuilt) │\n",
              "└─────────────────────────────────┴────────────────────────┴───────────────┘\n",
              "</pre>\n"
            ]
          },
          "metadata": {}
        },
        {
          "output_type": "display_data",
          "data": {
            "text/plain": [
              "\u001b[1m Total params: \u001b[0m\u001b[38;5;34m0\u001b[0m (0.00 B)\n"
            ],
            "text/html": [
              "<pre style=\"white-space:pre;overflow-x:auto;line-height:normal;font-family:Menlo,'DejaVu Sans Mono',consolas,'Courier New',monospace\"><span style=\"font-weight: bold\"> Total params: </span><span style=\"color: #00af00; text-decoration-color: #00af00\">0</span> (0.00 B)\n",
              "</pre>\n"
            ]
          },
          "metadata": {}
        },
        {
          "output_type": "display_data",
          "data": {
            "text/plain": [
              "\u001b[1m Trainable params: \u001b[0m\u001b[38;5;34m0\u001b[0m (0.00 B)\n"
            ],
            "text/html": [
              "<pre style=\"white-space:pre;overflow-x:auto;line-height:normal;font-family:Menlo,'DejaVu Sans Mono',consolas,'Courier New',monospace\"><span style=\"font-weight: bold\"> Trainable params: </span><span style=\"color: #00af00; text-decoration-color: #00af00\">0</span> (0.00 B)\n",
              "</pre>\n"
            ]
          },
          "metadata": {}
        },
        {
          "output_type": "display_data",
          "data": {
            "text/plain": [
              "\u001b[1m Non-trainable params: \u001b[0m\u001b[38;5;34m0\u001b[0m (0.00 B)\n"
            ],
            "text/html": [
              "<pre style=\"white-space:pre;overflow-x:auto;line-height:normal;font-family:Menlo,'DejaVu Sans Mono',consolas,'Courier New',monospace\"><span style=\"font-weight: bold\"> Non-trainable params: </span><span style=\"color: #00af00; text-decoration-color: #00af00\">0</span> (0.00 B)\n",
              "</pre>\n"
            ]
          },
          "metadata": {}
        }
      ]
    },
    {
      "cell_type": "markdown",
      "metadata": {
        "id": "c6a9a8ee"
      },
      "source": [
        "## Train the binary classification model\n",
        "\n",
        "### Subtask:\n",
        "Train the modified model on the filtered and prepared data.\n"
      ]
    },
    {
      "cell_type": "markdown",
      "metadata": {
        "id": "a627e4db"
      },
      "source": [
        "**Reasoning**:\n",
        "Train the modified binary LSTM model using the prepared training and validation data.\n",
        "\n"
      ]
    },
    {
      "cell_type": "code",
      "metadata": {
        "colab": {
          "base_uri": "https://localhost:8080/"
        },
        "id": "d2ec133b",
        "outputId": "89717843-1cb0-43e3-d4f1-0ca40b52df7e"
      },
      "source": [
        "# Train the binary model\n",
        "history_binary = model_binary.fit(X_train_binary, y_train_binary, epochs=10, validation_data=(X_test_binary, y_test_binary), verbose=2)\n",
        "\n",
        "# Print a confirmation message\n",
        "print(\"\\nBinary model training complete.\")"
      ],
      "execution_count": 13,
      "outputs": [
        {
          "output_type": "stream",
          "name": "stdout",
          "text": [
            "Epoch 1/10\n",
            "2/2 - 4s - 2s/step - accuracy: 0.8462 - loss: 0.6831 - val_accuracy: 1.0000 - val_loss: 0.6512\n",
            "Epoch 2/10\n",
            "2/2 - 0s - 88ms/step - accuracy: 0.8974 - loss: 0.6564 - val_accuracy: 1.0000 - val_loss: 0.6150\n",
            "Epoch 3/10\n",
            "2/2 - 0s - 96ms/step - accuracy: 0.8974 - loss: 0.6340 - val_accuracy: 1.0000 - val_loss: 0.5662\n",
            "Epoch 4/10\n",
            "2/2 - 0s - 93ms/step - accuracy: 0.8974 - loss: 0.5980 - val_accuracy: 1.0000 - val_loss: 0.4938\n",
            "Epoch 5/10\n",
            "2/2 - 0s - 138ms/step - accuracy: 0.8974 - loss: 0.5192 - val_accuracy: 1.0000 - val_loss: 0.3783\n",
            "Epoch 6/10\n",
            "2/2 - 0s - 151ms/step - accuracy: 0.8974 - loss: 0.4208 - val_accuracy: 1.0000 - val_loss: 0.2230\n",
            "Epoch 7/10\n",
            "2/2 - 0s - 145ms/step - accuracy: 0.8974 - loss: 0.4112 - val_accuracy: 1.0000 - val_loss: 0.1200\n",
            "Epoch 8/10\n",
            "2/2 - 0s - 144ms/step - accuracy: 0.8974 - loss: 0.3794 - val_accuracy: 1.0000 - val_loss: 0.0960\n",
            "Epoch 9/10\n",
            "2/2 - 1s - 422ms/step - accuracy: 0.8974 - loss: 0.3804 - val_accuracy: 1.0000 - val_loss: 0.1090\n",
            "Epoch 10/10\n",
            "2/2 - 1s - 451ms/step - accuracy: 0.8974 - loss: 0.3916 - val_accuracy: 1.0000 - val_loss: 0.1170\n",
            "\n",
            "Binary model training complete.\n"
          ]
        }
      ]
    },
    {
      "cell_type": "markdown",
      "metadata": {
        "id": "29e1af98"
      },
      "source": [
        "## Evaluate binary classification model\n",
        "\n",
        "### Subtask:\n",
        "Evaluate the performance of the binary classification model using appropriate metrics.\n"
      ]
    },
    {
      "cell_type": "markdown",
      "metadata": {
        "id": "306323d7"
      },
      "source": [
        "**Reasoning**:\n",
        "Calculate and print the weighted F1 score for the binary classification model.\n",
        "\n"
      ]
    },
    {
      "cell_type": "code",
      "metadata": {
        "colab": {
          "base_uri": "https://localhost:8080/"
        },
        "id": "09189987",
        "outputId": "afed4b15-ef25-4885-cda1-00d2c7828469"
      },
      "source": [
        "from sklearn.metrics import f1_score\n",
        "import numpy as np\n",
        "\n",
        "# Predict probabilities for the binary test set\n",
        "y_pred_probs_binary = model_binary.predict(X_test_binary)\n",
        "\n",
        "# Convert predicted probabilities to binary class labels using a threshold of 0.5\n",
        "y_pred_binary = (y_pred_probs_binary > 0.5).astype(int)\n",
        "\n",
        "# Calculate the weighted F1 score for the binary classification\n",
        "f1_binary = f1_score(y_test_binary, y_pred_binary, average='weighted')\n",
        "\n",
        "# Print the weighted F1 score\n",
        "print(f\"\\nBinary Classification F1 Score (Weighted): {f1_binary:.4f}\")"
      ],
      "execution_count": 14,
      "outputs": [
        {
          "output_type": "stream",
          "name": "stdout",
          "text": [
            "\u001b[1m1/1\u001b[0m \u001b[32m━━━━━━━━━━━━━━━━━━━━\u001b[0m\u001b[37m\u001b[0m \u001b[1m0s\u001b[0m 367ms/step\n",
            "\n",
            "Binary Classification F1 Score (Weighted): 1.0000\n"
          ]
        }
      ]
    },
    {
      "cell_type": "markdown",
      "metadata": {
        "id": "6645470b"
      },
      "source": [
        "## Summary:\n",
        "\n",
        "### Q&A\n",
        "1. How to fine-tune the model for binary classification?\n",
        "To fine-tune the LSTM model for binary classification, the following steps were taken:\n",
        "    - Filter the dataset to include only the two desired classes ('Positive' and 'Negative').\n",
        "    - Re-encode the labels for these two classes into a binary format (0 and 1).\n",
        "    - Split the data into training and testing sets.\n",
        "    - Modify the final Dense layer of the LSTM model to have 1 unit with a 'sigmoid' activation function, suitable for binary output.\n",
        "    - Change the loss function to 'binary_crossentropy'.\n",
        "    - Compile the modified model.\n",
        "    - Train the modified model on the prepared binary data.\n",
        "    - Evaluate the model's performance using appropriate metrics like the F1 score.\n",
        "\n",
        "### Data Analysis Key Findings\n",
        "* The initial attempt to filter the data for binary classification failed due to leading/trailing whitespace in the 'Sentiment' column.\n",
        "* After cleaning the 'Sentiment' column by stripping whitespace, the dataset was successfully filtered to include only 'Positive' and 'Negative' sentiments, resulting in a binary DataFrame with 49 rows.\n",
        "* The sentiment labels for the binary data were successfully re-encoded into numerical format (0 and 1).\n",
        "* The text data was tokenized and padded to a uniform length of 100.\n",
        "* The binary data was split into training (39 samples) and testing (10 samples) sets.\n",
        "* The LSTM model was successfully modified for binary classification by changing the final Dense layer to 1 unit with a sigmoid activation and using 'binary_crossentropy' as the loss function.\n",
        "* The modified binary classification model was trained for 10 epochs.\n",
        "* The weighted F1 score for the binary classification model on the test set was 1.0000.\n",
        "\n",
        "### Insights or Next Steps\n",
        "* The perfect F1 score of 1.0000 on the test set suggests potential overfitting or a very simple binary classification task within this specific subset of data. Further evaluation on a larger, more diverse test set or using cross-validation would be beneficial to confirm the model's generalization ability.\n",
        "* Given the small size of the binary dataset (49 samples), the model's performance might not be representative of its ability to handle larger-scale binary sentiment classification. Testing with a larger dataset is recommended.\n"
      ]
    },
    {
      "cell_type": "code",
      "source": [],
      "metadata": {
        "id": "Z_GRvC8Qlycv"
      },
      "execution_count": null,
      "outputs": []
    },
    {
      "cell_type": "code",
      "metadata": {
        "colab": {
          "base_uri": "https://localhost:8080/"
        },
        "id": "6ae3a1a8",
        "outputId": "49b3ca43-c030-4b67-b3c7-3255ea8b31f3"
      },
      "source": [
        "# Identify unique sentiment classes\n",
        "unique_sentiments = df['Sentiment'].unique()\n",
        "print(\"Unique sentiment classes:\", unique_sentiments)"
      ],
      "execution_count": 15,
      "outputs": [
        {
          "output_type": "stream",
          "name": "stdout",
          "text": [
            "Unique sentiment classes: ['Positive' 'Negative' 'Neutral' 'Anger' 'Fear' 'Sadness' 'Disgust'\n",
            " 'Happiness' 'Joy' 'Love' 'Amusement' 'Enjoyment' 'Admiration' 'Affection'\n",
            " 'Awe' 'Disappointed' 'Surprise' 'Acceptance' 'Adoration' 'Anticipation'\n",
            " 'Bitter' 'Calmness' 'Confusion' 'Excitement' 'Kind' 'Pride' 'Shame'\n",
            " 'Elation' 'Euphoria' 'Contentment' 'Serenity' 'Gratitude' 'Hope'\n",
            " 'Empowerment' 'Compassion' 'Tenderness' 'Arousal' 'Enthusiasm'\n",
            " 'Fulfillment' 'Reverence' 'Despair' 'Grief' 'Loneliness' 'Jealousy'\n",
            " 'Resentment' 'Frustration' 'Boredom' 'Anxiety' 'Intimidation'\n",
            " 'Helplessness' 'Envy' 'Regret' 'Curiosity' 'Indifference' 'Numbness'\n",
            " 'Melancholy' 'Nostalgia' 'Ambivalence' 'Determination' 'Zest' 'Hopeful'\n",
            " 'Proud' 'Grateful' 'Empathetic' 'Compassionate' 'Playful' 'Free-spirited'\n",
            " 'Inspired' 'Confident' 'Bitterness' 'Yearning' 'Fearful' 'Apprehensive'\n",
            " 'Overwhelmed' 'Jealous' 'Devastated' 'Frustrated' 'Envious' 'Dismissive'\n",
            " 'Thrill' 'Bittersweet' 'Overjoyed' 'Inspiration' 'Motivation'\n",
            " 'Contemplation' 'JoyfulReunion' 'Satisfaction' 'Blessed' 'Reflection'\n",
            " 'Appreciation' 'Confidence' 'Accomplishment' 'Wonderment' 'Optimism'\n",
            " 'Enchantment' 'Intrigue' 'PlayfulJoy' 'Mindfulness' 'DreamChaser'\n",
            " 'Elegance' 'Whimsy' 'Pensive' 'Harmony' 'Creativity' 'Radiance' 'Wonder'\n",
            " 'Rejuvenation' 'Coziness' 'Adventure' 'Melodic' 'FestiveJoy'\n",
            " 'InnerJourney' 'Freedom' 'Dazzle' 'Adrenaline' 'ArtisticBurst'\n",
            " 'CulinaryOdyssey' 'Resilience' 'Immersion' 'Spark' 'Marvel' 'Heartbreak'\n",
            " 'Betrayal' 'Suffering' 'EmotionalStorm' 'Isolation' 'Disappointment'\n",
            " 'LostLove' 'Exhaustion' 'Sorrow' 'Darkness' 'Desperation' 'Ruins'\n",
            " 'Desolation' 'Loss' 'Heartache' 'Solitude' 'Positivity' 'Kindness'\n",
            " 'Friendship' 'Success' 'Exploration' 'Amazement' 'Romance' 'Captivation'\n",
            " 'Tranquility' 'Grandeur' 'Emotion' 'Energy' 'Celebration' 'Charm'\n",
            " 'Ecstasy' 'Colorful' 'Hypnotic' 'Connection' 'Iconic' 'Journey'\n",
            " 'Engagement' 'Touched' 'Suspense' 'Triumph' 'Heartwarming' 'Obstacle'\n",
            " 'Sympathy' 'Pressure' 'Renewed Effort' 'Miscalculation' 'Challenge'\n",
            " 'Solace' 'Breakthrough' 'Joy in Baking' 'Envisioning History'\n",
            " 'Imagination' 'Vibrancy' 'Mesmerizing' 'Culinary Adventure'\n",
            " 'Winter Magic' 'Thrilling Journey' \"Nature's Beauty\" 'Celestial Wonder'\n",
            " 'Creative Inspiration' 'Runway Creativity' \"Ocean's Freedom\"\n",
            " 'Whispers of the Past' 'Relief' 'Embarrassed' 'Mischievous' 'Sad' 'Hate'\n",
            " 'Bad' 'Happy']\n"
          ]
        }
      ]
    },
    {
      "cell_type": "code",
      "source": [
        "from google.colab import drive\n",
        "\n",
        "# Mount Google Drive\n",
        "drive.mount('/content/drive')\n",
        "\n",
        "# Define the path to save the file in your Google Drive\n",
        "save_path = '/content/drive/MyDrive/processed_sentiment_data.csv'\n",
        "\n",
        "# Save the DataFrame to a CSV file\n",
        "df.to_csv(save_path, index=False)\n",
        "\n",
        "print(f\"DataFrame successfully saved to {save_path}\")"
      ],
      "metadata": {
        "colab": {
          "base_uri": "https://localhost:8080/"
        },
        "id": "IC-Qwo8Ymhm5",
        "outputId": "f1c1349c-f230-4d47-a1ad-48e2fb4191e6"
      },
      "execution_count": 16,
      "outputs": [
        {
          "output_type": "stream",
          "name": "stdout",
          "text": [
            "Drive already mounted at /content/drive; to attempt to forcibly remount, call drive.mount(\"/content/drive\", force_remount=True).\n",
            "DataFrame successfully saved to /content/drive/MyDrive/processed_sentiment_data.csv\n"
          ]
        }
      ]
    }
  ]
}